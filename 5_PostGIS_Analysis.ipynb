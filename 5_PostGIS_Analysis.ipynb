{
 "cells": [
  {
   "cell_type": "markdown",
   "metadata": {},
   "source": [
    "# Connecting to db"
   ]
  },
  {
   "cell_type": "code",
   "execution_count": null,
   "metadata": {},
   "outputs": [],
   "source": [
    "import pandas as pd\n",
    "import os\n",
    "import psycopg2 as pg\n",
    "from psycopg2 import sql\n",
    "import plotly.express as px"
   ]
  },
  {
   "cell_type": "code",
   "execution_count": null,
   "metadata": {},
   "outputs": [],
   "source": [
    "valid_answer = True\n",
    "while (valid_answer):\n",
    "    answer = input('Use Cloud DB? (y/n):').lower()\n",
    "    if answer.lower() == 'n' or answer.lower() == 'no':\n",
    "        db_host = os.environ.get('DB_HOST')\n",
    "        db_port = os.environ.get('DB_PORT')\n",
    "        db_user = os.environ.get('DB_USER')\n",
    "        db_password = os.environ.get('DB_PASSWORD')\n",
    "        db_name = os.environ.get('DB_NAME')\n",
    "        valid_answer = False\n",
    "        print('Using local DB')\n",
    "    elif answer.lower() == 'y' or answer.lower() =='yes':\n",
    "        db_host = os.environ.get('DB_HOST')\n",
    "        db_port = os.environ.get('DB_PORT')\n",
    "        db_user = os.environ.get('DB_USER')\n",
    "        db_password = os.environ.get('DB_PASSWORD')\n",
    "        db_name = os.environ.get('DB_NAME')\n",
    "        valid_answer = False\n",
    "        print('Using Cloud DB')\n",
    "    else:\n",
    "        print('Invalid input. Please enter y or n.')\n",
    "\n",
    "db_url = f'postgresql://{db_user}:{db_password}@{db_host}:{db_port}/{db_name}'"
   ]
  },
  {
   "cell_type": "code",
   "execution_count": null,
   "metadata": {},
   "outputs": [],
   "source": [
    "# connect to the database\n",
    "conn = pg.connect(\n",
    "    database=db_name,\n",
    "    user=db_user,\n",
    "    password=db_password,\n",
    "    host=db_host,\n",
    "    port=db_port\n",
    ")"
   ]
  },
  {
   "cell_type": "markdown",
   "metadata": {},
   "source": [
    "# Data Completeness & Consistency checks\n",
    "- missing values (done)\n",
    "- duplicates (done)\n",
    "- data types (done)\n",
    "- data ranges\n",
    "- is marine (all permanent water bodies are marine)\n",
    "### case studies https://www.nature.org/content/dam/tnc/nature/en/documents/Pathway_for_Inland_Waters_Nov_2022.pdf"
   ]
  },
  {
   "cell_type": "code",
   "execution_count": null,
   "metadata": {},
   "outputs": [],
   "source": [
    "# count number of rows in database table\n",
    "cursor = conn.cursor()\n",
    "cursor.execute('SELECT COUNT(*) FROM cep_water')\n",
    "db_length = cursor.fetchone()[0]\n",
    "cursor.close()"
   ]
  },
  {
   "cell_type": "code",
   "execution_count": null,
   "metadata": {},
   "outputs": [],
   "source": [
    "# check for any missing country (country = 0)\n",
    "cursor = conn.cursor()\n",
    "cursor.execute('SELECT * FROM cep_water WHERE country = 0')\n",
    "result = cursor.fetchall()\n",
    "for row in result:\n",
    "    print(row)\n",
    "cursor.close()"
   ]
  },
  {
   "cell_type": "code",
   "execution_count": null,
   "metadata": {},
   "outputs": [],
   "source": [
    "# check for duplicates\n",
    "cursor = conn.cursor()\n",
    "# check for duplicate cep_id and pa and eco\n",
    "cursor.execute('SELECT cep_id, pa, eco, COUNT(*) FROM cep_water GROUP BY cep_id, pa, eco HAVING COUNT(*) > 1')\n",
    "result = cursor.fetchall()\n",
    "for row in result:\n",
    "    print(row)\n",
    "cursor.close()"
   ]
  },
  {
   "cell_type": "markdown",
   "metadata": {},
   "source": [
    "### Checking if Marine only areas have no permanent water bodies \n",
    "#### Findings: some marine only areas only "
   ]
  },
  {
   "cell_type": "code",
   "execution_count": null,
   "metadata": {},
   "outputs": [],
   "source": [
    "# check where is_marine true, it has large band 1 area the other values should be 0 or near 0 if it's near coastlines (e.g reefs)\n",
    "cursor = conn.cursor()\n",
    "# Select all rows where is_marine is true and transition_1 is less than 1\n",
    "cursor.execute('SELECT * FROM cep_water WHERE is_marine = TRUE AND \"transition_1\" < 1')\n",
    "# put the result in a dataframe and add the column names\n",
    "df = pd.DataFrame(cursor.fetchall(), columns=[desc[0] for desc in cursor.description])\n",
    "df.set_index('cep_id', inplace=True)\n",
    "cursor.close()\n",
    "percentage_of_marine_without_permanent_water = len(df) / db_length * 100\n",
    "df.head(1)"
   ]
  },
  {
   "cell_type": "code",
   "execution_count": null,
   "metadata": {},
   "outputs": [],
   "source": [
    "# check where is_marine true, it has large band 1 area the other values should be 0 or near 0 if it's near coastlines (e.g reefs)\n",
    "cursor = conn.cursor()\n",
    "# Select all rows where is_marine is true and transition_1 is less than 1\n",
    "cursor.execute('SELECT * FROM cep_water WHERE is_marine = TRUE AND \"transition_1\" > 1')\n",
    "# put the result in a dataframe and add the column names\n",
    "df = pd.DataFrame(cursor.fetchall(), columns=[desc[0] for desc in cursor.description])\n",
    "df.set_index('cep_id', inplace=True)\n",
    "cursor.close()\n",
    "percentage_of_marine_with_permanent_water = len(df) / db_length * 100\n",
    "df.head(1)"
   ]
  },
  {
   "cell_type": "code",
   "execution_count": null,
   "metadata": {},
   "outputs": [],
   "source": [
    "fig = px.pie(values=[percentage_of_marine_without_permanent_water, percentage_of_marine_with_permanent_water, 100 - percentage_of_marine_without_permanent_water - percentage_of_marine_with_permanent_water], names=['Marine with no permanent water', 'Marine with permanent water', 'Non-marine areas'], title='Percentage of marine areas with and without permanent water')\n",
    "# change layout to dark theme make the chart square\n",
    "fig.update_layout(template='plotly_dark', width=600, height=600)\n",
    "fig.show()"
   ]
  },
  {
   "cell_type": "code",
   "execution_count": null,
   "metadata": {},
   "outputs": [],
   "source": [
    "conn.close()"
   ]
  },
  {
   "cell_type": "markdown",
   "metadata": {},
   "source": [
    "# Analyisis"
   ]
  },
  {
   "cell_type": "code",
   "execution_count": 58,
   "metadata": {},
   "outputs": [],
   "source": [
    "# import union\n",
    "from typing import Union"
   ]
  },
  {
   "cell_type": "code",
   "execution_count": 59,
   "metadata": {},
   "outputs": [],
   "source": [
    "def connect_and_run_query(query: Union[str, sql.Composed]):\n",
    "    conn = pg.connect(\n",
    "        database=db_name,\n",
    "        user=db_user,\n",
    "        password=db_password,\n",
    "        host=db_host,\n",
    "        port=db_port\n",
    "    )\n",
    "    try:\n",
    "        cursor = conn.cursor()\n",
    "        cursor.execute(query)\n",
    "        result = cursor.fetchall()\n",
    "        cursor.close()\n",
    "    except Exception as e:\n",
    "        print(e)\n",
    "        conn.rollback()\n",
    "    finally:\n",
    "        conn.close()\n",
    "    return result"
   ]
  },
  {
   "cell_type": "code",
   "execution_count": 60,
   "metadata": {},
   "outputs": [
    {
     "name": "stdout",
     "output_type": "stream",
     "text": [
      "(1, 0, 895.792133, 0.0, 0.0, 0.0, 0.0, 0.0, 0.0, 0.0, 0.0, 0.0, 0.0, 171, 'Lithuania', 'LTU', 80412, 'Central European mixed forests', False, 0, None, False, '20E_60N')\n",
      "(2, 1, 63082050577.5139, 221373738181.0224, 0.0, 0.0, 0.0, 0.0, 0.0, 0.0, 0.0, 0.0, 0.0, 1, 'Area Beyond National Jurisdiction', 'ABNJ', 1, 'Antarctic', True, 0, None, False, '0E_50S')\n",
      "(2, 2, 63082050577.5139, 394363393841.4701, 0.0, 0.0, 0.0, 0.0, 0.0, 0.0, 0.0, 0.0, 0.0, 1, 'Area Beyond National Jurisdiction', 'ABNJ', 1, 'Antarctic', True, 0, None, False, '100E_50S')\n",
      "(2, 3, 0.0, 99875969.231487, 0.0, 0.0, 0.0, 0.0, 0.0, 0.0, 0.0, 0.0, 0.0, 1, 'Area Beyond National Jurisdiction', 'ABNJ', 1, 'Antarctic', True, 0, None, False, '10E_40S')\n",
      "(2, 4, 63105174929.44815, 633201708877.544, 0.0, 0.0, 0.0, 0.0, 0.0, 0.0, 0.0, 0.0, 0.0, 1, 'Area Beyond National Jurisdiction', 'ABNJ', 1, 'Antarctic', True, 0, None, False, '10E_50S')\n"
     ]
    }
   ],
   "source": [
    "query = \"\"\"SELECT \n",
    "        cw.*, \n",
    "        c_qid.quantile_name\n",
    "    FROM \n",
    "        (SELECT * FROM cep_water LIMIT 5) cw\n",
    "    JOIN \n",
    "        cep_qid c_qid\n",
    "    ON \n",
    "        cw.qid = c_qid.qid;\"\"\"\n",
    "result = connect_and_run_query(query)\n",
    "for row in result:\n",
    "    print(row)\n"
   ]
  },
  {
   "cell_type": "code",
   "execution_count": 48,
   "metadata": {},
   "outputs": [],
   "source": []
  },
  {
   "cell_type": "code",
   "execution_count": 121,
   "metadata": {},
   "outputs": [],
   "source": [
    "def get_summed_bands_by_col(group_by_col = [\"country_name\"],is_pa=False, is_marine=False, include_unassigned_land=False, convert_to_meters=False):\n",
    "    df = None\n",
    "    try:\n",
    "        # connect to the database\n",
    "        conn = pg.connect(\n",
    "            database=db_name,\n",
    "            user=db_user,\n",
    "            password=db_password,\n",
    "            host=db_host,\n",
    "            port=db_port\n",
    "        )\n",
    "        # create a cursor object using the cursor() method\n",
    "        cursor = conn.cursor()\n",
    "        # query all rows transition_0  to transition_10, filter where pa is 0 and where marine is false, and group by country_name and sum the areas for each transition band\n",
    "        bands_SUM = [f'SUM(transition_{i}) as \"transition_{i}\"' for i in range(11)]\n",
    "        query = sql.SQL('SELECT {group_by_column}, {bands} FROM cep_grouped WHERE is_protected = {is_pa} {unassigned_land} AND is_marine = {is_marine} GROUP BY {group_by_column}').format(\n",
    "            bands=sql.SQL(', ').join(map(sql.SQL, bands_SUM)),\n",
    "            is_pa=sql.Literal(is_pa),\n",
    "            is_marine=sql.Literal(is_marine),\n",
    "            group_by_column= sql.Identifier(group_by_col), \n",
    "            unassigned_land = sql.SQL('AND eco != 10001') if not include_unassigned_land else sql.SQL(''),\n",
    "   \n",
    "        )\n",
    "        # #print query as string\n",
    "        # print(query.as_string(conn))                                                                                                                    \n",
    "        # filter where \n",
    "        cursor.execute(query)\n",
    "        result = cursor.fetchall()\n",
    "        cursor.close()\n",
    "\n",
    "        # convert to df and set index to group_by_col\n",
    "        df = pd.DataFrame(result, columns=[group_by_col]+[f'transition_{i}' for i in range(11)])\n",
    "        df.set_index(group_by_col, inplace=True)\n",
    "        # convert to meters\n",
    "        if convert_to_meters:\n",
    "            df = df.apply(lambda x: x/1000000)\n",
    "        #return result\n",
    "    except Exception as e:\n",
    "        print(\"error: \", e)\n",
    "    finally:\n",
    "        conn.rollback()\n",
    "        conn.close()\n",
    "\n",
    "    return df\n"
   ]
  },
  {
   "cell_type": "code",
   "execution_count": 122,
   "metadata": {},
   "outputs": [
    {
     "name": "stdout",
     "output_type": "stream",
     "text": [
      "error:  \"None of ['eco'] are in the columns\"\n"
     ]
    }
   ],
   "source": [
    "# df_protected = get_summed_bands_by_col(group_by_col = \"country_name\",is_pa=True, is_marine=False, convert_to_meters=True)\n",
    "# df_unprotected = get_summed_bands_by_col(group_by_col = \"country_name\",is_pa=False, is_marine=False, convert_to_meters=True)\n",
    "df_terrestrial_eco = get_summed_bands_by_col(group_by_col = \"eco\", is_pa=False, is_marine=False, convert_to_meters=True)"
   ]
  },
  {
   "cell_type": "code",
   "execution_count": 68,
   "metadata": {},
   "outputs": [
    {
     "data": {
      "text/html": [
       "<div>\n",
       "<style scoped>\n",
       "    .dataframe tbody tr th:only-of-type {\n",
       "        vertical-align: middle;\n",
       "    }\n",
       "\n",
       "    .dataframe tbody tr th {\n",
       "        vertical-align: top;\n",
       "    }\n",
       "\n",
       "    .dataframe thead th {\n",
       "        text-align: right;\n",
       "    }\n",
       "</style>\n",
       "<table border=\"1\" class=\"dataframe\">\n",
       "  <thead>\n",
       "    <tr style=\"text-align: right;\">\n",
       "      <th></th>\n",
       "      <th>transition_0</th>\n",
       "      <th>transition_1</th>\n",
       "      <th>transition_2</th>\n",
       "      <th>transition_3</th>\n",
       "      <th>transition_4</th>\n",
       "      <th>transition_5</th>\n",
       "      <th>transition_6</th>\n",
       "      <th>transition_7</th>\n",
       "      <th>transition_8</th>\n",
       "      <th>transition_9</th>\n",
       "      <th>transition_10</th>\n",
       "    </tr>\n",
       "    <tr>\n",
       "      <th>country_name</th>\n",
       "      <th></th>\n",
       "      <th></th>\n",
       "      <th></th>\n",
       "      <th></th>\n",
       "      <th></th>\n",
       "      <th></th>\n",
       "      <th></th>\n",
       "      <th></th>\n",
       "      <th></th>\n",
       "      <th></th>\n",
       "      <th></th>\n",
       "    </tr>\n",
       "  </thead>\n",
       "  <tbody>\n",
       "    <tr>\n",
       "      <th>Bangladesh</th>\n",
       "      <td>11144.104112</td>\n",
       "      <td>1276.686258</td>\n",
       "      <td>289.684649</td>\n",
       "      <td>31.614954</td>\n",
       "      <td>171.221675</td>\n",
       "      <td>128.951815</td>\n",
       "      <td>62.985299</td>\n",
       "      <td>54.733566</td>\n",
       "      <td>62.610513</td>\n",
       "      <td>1.768153</td>\n",
       "      <td>45.913789</td>\n",
       "    </tr>\n",
       "  </tbody>\n",
       "</table>\n",
       "</div>"
      ],
      "text/plain": [
       "              transition_0  transition_1  transition_2  transition_3  \\\n",
       "country_name                                                           \n",
       "Bangladesh    11144.104112   1276.686258    289.684649     31.614954   \n",
       "\n",
       "              transition_4  transition_5  transition_6  transition_7  \\\n",
       "country_name                                                           \n",
       "Bangladesh      171.221675    128.951815     62.985299     54.733566   \n",
       "\n",
       "              transition_8  transition_9  transition_10  \n",
       "country_name                                             \n",
       "Bangladesh       62.610513      1.768153      45.913789  "
      ]
     },
     "execution_count": 68,
     "metadata": {},
     "output_type": "execute_result"
    }
   ],
   "source": [
    "df_protected.head(1)"
   ]
  },
  {
   "cell_type": "code",
   "execution_count": 69,
   "metadata": {},
   "outputs": [
    {
     "data": {
      "text/html": [
       "<div>\n",
       "<style scoped>\n",
       "    .dataframe tbody tr th:only-of-type {\n",
       "        vertical-align: middle;\n",
       "    }\n",
       "\n",
       "    .dataframe tbody tr th {\n",
       "        vertical-align: top;\n",
       "    }\n",
       "\n",
       "    .dataframe thead th {\n",
       "        text-align: right;\n",
       "    }\n",
       "</style>\n",
       "<table border=\"1\" class=\"dataframe\">\n",
       "  <thead>\n",
       "    <tr style=\"text-align: right;\">\n",
       "      <th></th>\n",
       "      <th>transition_0</th>\n",
       "      <th>transition_1</th>\n",
       "      <th>transition_2</th>\n",
       "      <th>transition_3</th>\n",
       "      <th>transition_4</th>\n",
       "      <th>transition_5</th>\n",
       "      <th>transition_6</th>\n",
       "      <th>transition_7</th>\n",
       "      <th>transition_8</th>\n",
       "      <th>transition_9</th>\n",
       "      <th>transition_10</th>\n",
       "    </tr>\n",
       "    <tr>\n",
       "      <th>country_name</th>\n",
       "      <th></th>\n",
       "      <th></th>\n",
       "      <th></th>\n",
       "      <th></th>\n",
       "      <th></th>\n",
       "      <th></th>\n",
       "      <th></th>\n",
       "      <th></th>\n",
       "      <th></th>\n",
       "      <th></th>\n",
       "      <th></th>\n",
       "    </tr>\n",
       "  </thead>\n",
       "  <tbody>\n",
       "    <tr>\n",
       "      <th>Afghanistan</th>\n",
       "      <td>611004.227111</td>\n",
       "      <td>194.299419</td>\n",
       "      <td>174.080562</td>\n",
       "      <td>756.569597</td>\n",
       "      <td>243.086282</td>\n",
       "      <td>538.600089</td>\n",
       "      <td>654.62639</td>\n",
       "      <td>12.474034</td>\n",
       "      <td>136.500569</td>\n",
       "      <td>2005.066034</td>\n",
       "      <td>2363.970579</td>\n",
       "    </tr>\n",
       "  </tbody>\n",
       "</table>\n",
       "</div>"
      ],
      "text/plain": [
       "               transition_0  transition_1  transition_2  transition_3  \\\n",
       "country_name                                                            \n",
       "Afghanistan   611004.227111    194.299419    174.080562    756.569597   \n",
       "\n",
       "              transition_4  transition_5  transition_6  transition_7  \\\n",
       "country_name                                                           \n",
       "Afghanistan     243.086282    538.600089     654.62639     12.474034   \n",
       "\n",
       "              transition_8  transition_9  transition_10  \n",
       "country_name                                             \n",
       "Afghanistan     136.500569   2005.066034    2363.970579  "
      ]
     },
     "execution_count": 69,
     "metadata": {},
     "output_type": "execute_result"
    }
   ],
   "source": [
    "df_unprotected.head(1)"
   ]
  },
  {
   "cell_type": "code",
   "execution_count": 115,
   "metadata": {},
   "outputs": [
    {
     "data": {
      "text/html": [
       "<div>\n",
       "<style scoped>\n",
       "    .dataframe tbody tr th:only-of-type {\n",
       "        vertical-align: middle;\n",
       "    }\n",
       "\n",
       "    .dataframe tbody tr th {\n",
       "        vertical-align: top;\n",
       "    }\n",
       "\n",
       "    .dataframe thead th {\n",
       "        text-align: right;\n",
       "    }\n",
       "</style>\n",
       "<table border=\"1\" class=\"dataframe\">\n",
       "  <thead>\n",
       "    <tr style=\"text-align: right;\">\n",
       "      <th></th>\n",
       "      <th>transition_0</th>\n",
       "      <th>transition_1</th>\n",
       "      <th>transition_2</th>\n",
       "      <th>transition_3</th>\n",
       "      <th>transition_4</th>\n",
       "      <th>transition_5</th>\n",
       "      <th>transition_6</th>\n",
       "      <th>transition_7</th>\n",
       "      <th>transition_8</th>\n",
       "      <th>transition_9</th>\n",
       "      <th>transition_10</th>\n",
       "    </tr>\n",
       "    <tr>\n",
       "      <th>eco</th>\n",
       "      <th></th>\n",
       "      <th></th>\n",
       "      <th></th>\n",
       "      <th></th>\n",
       "      <th></th>\n",
       "      <th></th>\n",
       "      <th></th>\n",
       "      <th></th>\n",
       "      <th></th>\n",
       "      <th></th>\n",
       "      <th></th>\n",
       "    </tr>\n",
       "  </thead>\n",
       "  <tbody>\n",
       "    <tr>\n",
       "      <th>9998</th>\n",
       "      <td>16329.370486</td>\n",
       "      <td>798938.09879</td>\n",
       "      <td>7224.348308</td>\n",
       "      <td>31084.582217</td>\n",
       "      <td>470.584544</td>\n",
       "      <td>1060.467029</td>\n",
       "      <td>3797.589527</td>\n",
       "      <td>725.706714</td>\n",
       "      <td>1207.040411</td>\n",
       "      <td>331.338682</td>\n",
       "      <td>991.485527</td>\n",
       "    </tr>\n",
       "  </tbody>\n",
       "</table>\n",
       "</div>"
      ],
      "text/plain": [
       "      transition_0  transition_1  transition_2  transition_3  transition_4  \\\n",
       "eco                                                                          \n",
       "9998  16329.370486  798938.09879   7224.348308  31084.582217    470.584544   \n",
       "\n",
       "      transition_5  transition_6  transition_7  transition_8  transition_9  \\\n",
       "eco                                                                          \n",
       "9998   1060.467029   3797.589527    725.706714   1207.040411    331.338682   \n",
       "\n",
       "      transition_10  \n",
       "eco                  \n",
       "9998     991.485527  "
      ]
     },
     "execution_count": 115,
     "metadata": {},
     "output_type": "execute_result"
    }
   ],
   "source": [
    "df_terrestrial_eco.head(1)"
   ]
  }
 ],
 "metadata": {
  "kernelspec": {
   "display_name": "env",
   "language": "python",
   "name": "python3"
  },
  "language_info": {
   "codemirror_mode": {
    "name": "ipython",
    "version": 3
   },
   "file_extension": ".py",
   "mimetype": "text/x-python",
   "name": "python",
   "nbconvert_exporter": "python",
   "pygments_lexer": "ipython3",
   "version": "3.12.0"
  }
 },
 "nbformat": 4,
 "nbformat_minor": 2
}
