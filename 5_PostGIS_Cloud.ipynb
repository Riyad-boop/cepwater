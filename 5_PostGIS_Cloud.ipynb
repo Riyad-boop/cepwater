{
 "cells": [
  {
   "cell_type": "markdown",
   "metadata": {},
   "source": [
    "# Writing to Clever Cloud PostGIS db"
   ]
  },
  {
   "cell_type": "code",
   "execution_count": 1,
   "metadata": {},
   "outputs": [],
   "source": [
    "import psycopg2 as pg\n",
    "from psycopg2 import sql\n",
    "import pandas as pd\n",
    "import os\n",
    "# from IPython.display import Markdown as md\n",
    "import plotly.express as px"
   ]
  },
  {
   "cell_type": "code",
   "execution_count": 2,
   "metadata": {},
   "outputs": [],
   "source": [
    "db_host = os.environ.get('DB_HOST_CLOUD')\n",
    "db_port = os.environ.get('DB_PORT_CLOUD')\n",
    "db_user = os.environ.get('DB_USER_CLOUD')\n",
    "db_password = os.environ.get('DB_PASSWORD_CLOUD')\n",
    "db_name = os.environ.get('DB_NAME_CLOUD')\n",
    "\n",
    "db_url = f'postgresql://{db_user}:{db_password}@{db_host}:{db_port}/{db_name}'"
   ]
  },
  {
   "cell_type": "markdown",
   "metadata": {},
   "source": [
    "# Adding data into PostGres database on Clever Cloud"
   ]
  },
  {
   "cell_type": "code",
   "execution_count": 3,
   "metadata": {},
   "outputs": [],
   "source": [
    "# #create table from dataframe - Clever Cloud (Execution time ~= 3 min)\n",
    "# import pandas as pd\n",
    "# # read the csv file into a pandas dataframe, replacing NaN with None\n",
    "# df = pd.read_csv('final_output.csv', index_col=['cep_id'], dtype={'pa': 'Int64', 'eco': 'Int64', 'country': 'Int64'}).replace({pd.NA: None})\n",
    "# from sqlalchemy import create_engine\n",
    "# engine = create_engine(db_url)\n",
    "# df.to_sql('cep_water', engine, if_exists='replace')"
   ]
  },
  {
   "cell_type": "markdown",
   "metadata": {},
   "source": [
    "# Grouping transition bands into view\n",
    "- seasonal at start of time series (bands: 4, 6 and 7)\n",
    "- seasonal at end of time series (bands: 1, 3 and 8)\n",
    "- permanent at start of time series (bands: 4, 5 and 8)\n",
    "- permanent at end of time series (bands: 1, 2 and 7)"
   ]
  },
  {
   "cell_type": "code",
   "execution_count": 4,
   "metadata": {},
   "outputs": [],
   "source": [
    "# get the column names\n",
    "table_columns =  pd.read_sql_query('SELECT * FROM cep_water LIMIT 0', db_url).columns\n",
    "# remove all the transition columns\n",
    "table_columns = [col for col in table_columns if 'transition' not in col]\n",
    "\n",
    "# manually create the column names for the different categories\n",
    "seasonal_at_start_columns = table_columns #+ ['transition_4', 'transition_6', 'transition_7']\n",
    "seasonal_at_end_columns = table_columns + ['transition_1', 'transition_3', 'transition_8']\n",
    "permanent_at_start_columns = table_columns + ['transition_4', 'transition_5', 'transition_8']\n",
    "permanent_at_end_columns = table_columns + ['transition_1', 'transition_2', 'transition_7']"
   ]
  },
  {
   "cell_type": "code",
   "execution_count": 5,
   "metadata": {},
   "outputs": [
    {
     "ename": "DuplicateColumn",
     "evalue": "column \"?column?\" specified more than once\n",
     "output_type": "error",
     "traceback": [
      "\u001b[1;31m---------------------------------------------------------------------------\u001b[0m",
      "\u001b[1;31mDuplicateColumn\u001b[0m                           Traceback (most recent call last)",
      "Cell \u001b[1;32mIn[5], line 22\u001b[0m\n\u001b[0;32m     14\u001b[0m query \u001b[38;5;241m=\u001b[39m \u001b[38;5;124mf\u001b[39m\u001b[38;5;124m'''\u001b[39m\n\u001b[0;32m     15\u001b[0m \u001b[38;5;124mCREATE VIEW seasonal_1984 AS\u001b[39m\n\u001b[0;32m     16\u001b[0m \u001b[38;5;124mSELECT \u001b[39m\u001b[38;5;124m'\u001b[39m\u001b[38;5;124mcep_id\u001b[39m\u001b[38;5;124m'\u001b[39m\u001b[38;5;124m, \u001b[39m\u001b[38;5;124m'\u001b[39m\u001b[38;5;124mpa\u001b[39m\u001b[38;5;124m'\u001b[39m\u001b[38;5;124m, \u001b[39m\u001b[38;5;124m'\u001b[39m\u001b[38;5;124meco\u001b[39m\u001b[38;5;124m'\u001b[39m\u001b[38;5;124m,\u001b[39m\n\u001b[0;32m     17\u001b[0m \u001b[38;5;124mSUM(transition_4 + transition_6 + transition_7) AS seasonal_area\u001b[39m\n\u001b[0;32m     18\u001b[0m \u001b[38;5;124mFROM cep_water\u001b[39m\n\u001b[0;32m     19\u001b[0m \u001b[38;5;124m'''\u001b[39m\n\u001b[0;32m     21\u001b[0m \u001b[38;5;66;03m# execute the query and fetch the result\u001b[39;00m\n\u001b[1;32m---> 22\u001b[0m \u001b[43mcur\u001b[49m\u001b[38;5;241;43m.\u001b[39;49m\u001b[43mexecute\u001b[49m\u001b[43m(\u001b[49m\u001b[43mquery\u001b[49m\u001b[43m)\u001b[49m\n\u001b[0;32m     24\u001b[0m \u001b[38;5;66;03m# read view into a pandas dataframe\u001b[39;00m\n\u001b[0;32m     25\u001b[0m \u001b[38;5;66;03m#df = pd.read_sql_query('SELECT * FROM seasonal_1984', db_url)\u001b[39;00m\n\u001b[0;32m     26\u001b[0m \n\u001b[0;32m     27\u001b[0m \u001b[38;5;66;03m# execute the query\u001b[39;00m\n\u001b[0;32m     28\u001b[0m \u001b[38;5;66;03m# cur.execute(query)\u001b[39;00m\n\u001b[0;32m     30\u001b[0m cur\u001b[38;5;241m.\u001b[39mclose()\n",
      "\u001b[1;31mDuplicateColumn\u001b[0m: column \"?column?\" specified more than once\n"
     ]
    }
   ],
   "source": [
    "# connect to the database\n",
    "conn = pg.connect(\n",
    "    database=db_name,\n",
    "    user=db_user,\n",
    "    password=db_password,\n",
    "    host=db_host,\n",
    "    port=db_port\n",
    ")\n",
    "\n",
    "# create a cursor\n",
    "cur = conn.cursor()\n",
    "\n",
    "# select all columsn but sum the transitions fields for 3,6,7.\n",
    "query = f'''\n",
    "CREATE VIEW seasonal_1984 AS\n",
    "SELECT 'cep_id', 'pa', 'eco',\n",
    "SUM(transition_4 + transition_6 + transition_7) AS seasonal_area\n",
    "FROM cep_water\n",
    "'''\n",
    "\n",
    "# execute the query and fetch the result\n",
    "cur.execute(query)\n",
    "\n",
    "# read view into a pandas dataframe\n",
    "#df = pd.read_sql_query('SELECT * FROM seasonal_1984', db_url)\n",
    "\n",
    "# execute the query\n",
    "# cur.execute(query)\n",
    "\n",
    "cur.close()\n",
    "conn.close()            "
   ]
  },
  {
   "cell_type": "code",
   "execution_count": 8,
   "metadata": {},
   "outputs": [],
   "source": [
    "cur.close()\n",
    "conn.close()      "
   ]
  },
  {
   "cell_type": "code",
   "execution_count": null,
   "metadata": {},
   "outputs": [
    {
     "name": "stdout",
     "output_type": "stream",
     "text": [
      "\n",
      "CREATE VIEW seasonal_1984 AS\n",
      "SELECT cep_id, country, country_name, iso3, eco, eco_name, is_marine, pa, pa_name, is_protected,\n",
      "SUM(transition_4 + transition_6 + transition_7) AS seasonal_area\n",
      "FROM cep_water\n",
      "GROUP BY cep_id, country, country_name, iso3, eco, eco_name, is_marine, pa, pa_name, is_protected\n",
      "\n"
     ]
    }
   ],
   "source": [
    "query = f'''\n",
    "DROP VIEW IF EXISTS \"seasonal_perma_groupings\";\n",
    "CREATE VIEW seasonal_perma_groupings AS\n",
    "WITH groupings AS (\n",
    "    SELECT \n",
    "\t\tcep_water.cep_id,\n",
    "\t\tSUM(transition_4 + transition_6 + transition_7) AS seasonal_1984,\n",
    "\t\tSUM(transition_1 + transition_3 + transition_8) AS seasonal_2015,\n",
    "\t\tSUM(transition_4 + transition_5 + transition_8) AS permanent_1984,\n",
    "\t\tSUM(transition_1 + transition_2 + transition_7) AS permanent_2015\n",
    "\tFROM \n",
    "\t\tcep_water \n",
    "\tGROUP BY \n",
    "\t\tcep_water.cep_id\n",
    ")\n",
    "-- join temp groupings table with cep_water table, but don't select transition columns\n",
    "SELECT \n",
    "    cep_water.cep_id,\n",
    "    country,\n",
    "    country_name,\n",
    "    iso3,\n",
    "    eco,\n",
    "    eco_name,\n",
    "    is_marine,\n",
    "    pa,\n",
    "    pa_name,\n",
    "    is_protected,\n",
    "    groupings.seasonal_1984,\n",
    "    groupings.seasonal_2015,\n",
    "    groupings.permanent_1984,\n",
    "    groupings.permanent_2015\n",
    "FROM\n",
    "    cep_water\n",
    "JOIN\n",
    "    groupings\n",
    "ON\n",
    "    cep_water.cep_id = groupings.cep_id;\n",
    "'''\n",
    "print(query)"
   ]
  },
  {
   "cell_type": "code",
   "execution_count": null,
   "metadata": {},
   "outputs": [
    {
     "ename": "UndefinedTable",
     "evalue": "relation \"seasonal_1984\" does not exist\nLINE 1: SELECT * FROM seasonal_1984\n                      ^\n",
     "output_type": "error",
     "traceback": [
      "\u001b[1;31m---------------------------------------------------------------------------\u001b[0m",
      "\u001b[1;31mUndefinedTable\u001b[0m                            Traceback (most recent call last)",
      "Cell \u001b[1;32mIn[22], line 13\u001b[0m\n\u001b[0;32m     11\u001b[0m cur \u001b[38;5;241m=\u001b[39m conn\u001b[38;5;241m.\u001b[39mcursor()\n\u001b[0;32m     12\u001b[0m \u001b[38;5;66;03m#check if the view was created\u001b[39;00m\n\u001b[1;32m---> 13\u001b[0m \u001b[43mcur\u001b[49m\u001b[38;5;241;43m.\u001b[39;49m\u001b[43mexecute\u001b[49m\u001b[43m(\u001b[49m\u001b[38;5;124;43m'\u001b[39;49m\u001b[38;5;124;43mSELECT * FROM seasonal_1984\u001b[39;49m\u001b[38;5;124;43m'\u001b[39;49m\u001b[43m)\u001b[49m\n\u001b[0;32m     14\u001b[0m rows \u001b[38;5;241m=\u001b[39m cur\u001b[38;5;241m.\u001b[39mfetchall()\n\u001b[0;32m     15\u001b[0m \u001b[38;5;28;01mfor\u001b[39;00m row \u001b[38;5;129;01min\u001b[39;00m rows:\n",
      "\u001b[1;31mUndefinedTable\u001b[0m: relation \"seasonal_1984\" does not exist\nLINE 1: SELECT * FROM seasonal_1984\n                      ^\n"
     ]
    }
   ],
   "source": [
    "# connect to the database\n",
    "conn = pg.connect(\n",
    "    database=db_name,\n",
    "    user=db_user,\n",
    "    password=db_password,\n",
    "    host=db_host,\n",
    "    port=db_port\n",
    ")\n",
    "\n",
    "# create a cursor\n",
    "cur = conn.cursor()\n",
    "#check if the view was created\n",
    "cur.execute('SELECT * FROM seasonal_1984')\n",
    "rows = cur.fetchall()\n",
    "for row in rows:\n",
    "    print(row)\n",
    "    break\n",
    "\n",
    "\n",
    "\n",
    "# #create a view containing just cep_id \n",
    "# cur = conn.cursor()\n",
    "# query = f'''\n",
    "# CREATE OR REPLACE VIEW my_view AS\n",
    "# SELECT cep_id\n",
    "# FROM cep_water\n",
    "# '''\n",
    "# cur.execute(query)\n",
    "# # read the data from the view\n",
    "# cur.execute('SELECT * FROM my_view')\n",
    "\n",
    "# rows = cur.fetchall()\n",
    "# for row in rows:\n",
    "#     print(row)\n",
    "cur.close()\n",
    "conn.close()\n"
   ]
  },
  {
   "cell_type": "code",
   "execution_count": null,
   "metadata": {},
   "outputs": [],
   "source": [
    "raise"
   ]
  },
  {
   "cell_type": "code",
   "execution_count": 9,
   "metadata": {},
   "outputs": [],
   "source": [
    "# connect to the database\n",
    "conn = pg.connect(\n",
    "    database=db_name,\n",
    "    user=db_user,\n",
    "    password=db_password,\n",
    "    host=db_host,\n",
    "    port=db_port\n",
    ")"
   ]
  },
  {
   "cell_type": "code",
   "execution_count": 10,
   "metadata": {},
   "outputs": [
    {
     "name": "stdout",
     "output_type": "stream",
     "text": [
      "(1, 895.792133, 0.0, 0.0, 0.0, 0.0, 0.0, 0.0, 0.0, 0.0, 0.0, 0.0, 171, 'Lithuania', 'LTU', 80412, 'Central European mixed forests', False, 0, None, False)\n"
     ]
    }
   ],
   "source": [
    "# check size of database\n",
    "cursor = conn.cursor()\n",
    "cursor.execute('SELECT * FROM cep_water LIMIT 1')\n",
    "result = cursor.fetchall()\n",
    "for row in result:\n",
    "    print(row)\n",
    "cursor.close()"
   ]
  },
  {
   "cell_type": "markdown",
   "metadata": {},
   "source": [
    "# Data Completeness & Consistency checks\n",
    "- missing values (done)\n",
    "- duplicates (done)\n",
    "- data types (done)\n",
    "- data ranges\n",
    "- is marine (all permanent water bodies are marine)\n",
    "### case studies https://www.nature.org/content/dam/tnc/nature/en/documents/Pathway_for_Inland_Waters_Nov_2022.pdf"
   ]
  },
  {
   "cell_type": "code",
   "execution_count": 11,
   "metadata": {},
   "outputs": [],
   "source": [
    "# count number of rows in database table\n",
    "cursor = conn.cursor()\n",
    "cursor.execute('SELECT COUNT(*) FROM cep_water')\n",
    "db_length = cursor.fetchone()[0]\n",
    "cursor.close()"
   ]
  },
  {
   "cell_type": "code",
   "execution_count": 12,
   "metadata": {},
   "outputs": [],
   "source": [
    "# check for any missing country (country = 0)\n",
    "cursor = conn.cursor()\n",
    "cursor.execute('SELECT * FROM cep_water WHERE country = 0')\n",
    "result = cursor.fetchall()\n",
    "for row in result:\n",
    "    print(row)\n",
    "cursor.close()"
   ]
  },
  {
   "cell_type": "code",
   "execution_count": 13,
   "metadata": {},
   "outputs": [],
   "source": [
    "# check for duplicates\n",
    "cursor = conn.cursor()\n",
    "# check for duplicate cep_id and pa and eco\n",
    "cursor.execute('SELECT cep_id, pa, eco, COUNT(*) FROM cep_water GROUP BY cep_id, pa, eco HAVING COUNT(*) > 1')\n",
    "result = cursor.fetchall()\n",
    "for row in result:\n",
    "    print(row)\n",
    "cursor.close()"
   ]
  },
  {
   "cell_type": "markdown",
   "metadata": {},
   "source": [
    "### Checking if Marine only areas have no permanent water bodies \n",
    "#### Findings: some marine only areas only "
   ]
  },
  {
   "cell_type": "code",
   "execution_count": 14,
   "metadata": {},
   "outputs": [
    {
     "data": {
      "text/html": [
       "<div>\n",
       "<style scoped>\n",
       "    .dataframe tbody tr th:only-of-type {\n",
       "        vertical-align: middle;\n",
       "    }\n",
       "\n",
       "    .dataframe tbody tr th {\n",
       "        vertical-align: top;\n",
       "    }\n",
       "\n",
       "    .dataframe thead th {\n",
       "        text-align: right;\n",
       "    }\n",
       "</style>\n",
       "<table border=\"1\" class=\"dataframe\">\n",
       "  <thead>\n",
       "    <tr style=\"text-align: right;\">\n",
       "      <th></th>\n",
       "      <th>transition_0</th>\n",
       "      <th>transition_1</th>\n",
       "      <th>transition_2</th>\n",
       "      <th>transition_3</th>\n",
       "      <th>transition_4</th>\n",
       "      <th>transition_5</th>\n",
       "      <th>transition_6</th>\n",
       "      <th>transition_7</th>\n",
       "      <th>transition_8</th>\n",
       "      <th>transition_9</th>\n",
       "      <th>transition_10</th>\n",
       "      <th>country</th>\n",
       "      <th>country_name</th>\n",
       "      <th>iso3</th>\n",
       "      <th>eco</th>\n",
       "      <th>eco_name</th>\n",
       "      <th>is_marine</th>\n",
       "      <th>pa</th>\n",
       "      <th>pa_name</th>\n",
       "      <th>is_protected</th>\n",
       "    </tr>\n",
       "    <tr>\n",
       "      <th>cep_id</th>\n",
       "      <th></th>\n",
       "      <th></th>\n",
       "      <th></th>\n",
       "      <th></th>\n",
       "      <th></th>\n",
       "      <th></th>\n",
       "      <th></th>\n",
       "      <th></th>\n",
       "      <th></th>\n",
       "      <th></th>\n",
       "      <th></th>\n",
       "      <th></th>\n",
       "      <th></th>\n",
       "      <th></th>\n",
       "      <th></th>\n",
       "      <th></th>\n",
       "      <th></th>\n",
       "      <th></th>\n",
       "      <th></th>\n",
       "      <th></th>\n",
       "    </tr>\n",
       "  </thead>\n",
       "  <tbody>\n",
       "    <tr>\n",
       "      <th>316</th>\n",
       "      <td>78844.647179</td>\n",
       "      <td>0.0</td>\n",
       "      <td>0.0</td>\n",
       "      <td>0.0</td>\n",
       "      <td>0.0</td>\n",
       "      <td>0.000000</td>\n",
       "      <td>0.0</td>\n",
       "      <td>0.0</td>\n",
       "      <td>0.0</td>\n",
       "      <td>0.0</td>\n",
       "      <td>0.000000</td>\n",
       "      <td>6</td>\n",
       "      <td>Albania</td>\n",
       "      <td>ALB</td>\n",
       "      <td>20030</td>\n",
       "      <td>Adriatic Sea</td>\n",
       "      <td>True</td>\n",
       "      <td>11664</td>\n",
       "      <td>Rrushkull</td>\n",
       "      <td>True</td>\n",
       "    </tr>\n",
       "    <tr>\n",
       "      <th>548</th>\n",
       "      <td>17413.521867</td>\n",
       "      <td>0.0</td>\n",
       "      <td>0.0</td>\n",
       "      <td>0.0</td>\n",
       "      <td>0.0</td>\n",
       "      <td>0.000000</td>\n",
       "      <td>0.0</td>\n",
       "      <td>0.0</td>\n",
       "      <td>0.0</td>\n",
       "      <td>0.0</td>\n",
       "      <td>696.524314</td>\n",
       "      <td>8</td>\n",
       "      <td>United Arab Emirates</td>\n",
       "      <td>ARE</td>\n",
       "      <td>20090</td>\n",
       "      <td>Arabian (Persian) Gulf</td>\n",
       "      <td>True</td>\n",
       "      <td>555622078</td>\n",
       "      <td>Al Zorah</td>\n",
       "      <td>True</td>\n",
       "    </tr>\n",
       "    <tr>\n",
       "      <th>553</th>\n",
       "      <td>43883.138540</td>\n",
       "      <td>0.0</td>\n",
       "      <td>0.0</td>\n",
       "      <td>0.0</td>\n",
       "      <td>0.0</td>\n",
       "      <td>1393.109387</td>\n",
       "      <td>0.0</td>\n",
       "      <td>0.0</td>\n",
       "      <td>0.0</td>\n",
       "      <td>0.0</td>\n",
       "      <td>13234.579442</td>\n",
       "      <td>8</td>\n",
       "      <td>United Arab Emirates</td>\n",
       "      <td>ARE</td>\n",
       "      <td>20090</td>\n",
       "      <td>Arabian (Persian) Gulf</td>\n",
       "      <td>True</td>\n",
       "      <td>555625658</td>\n",
       "      <td>Al Zorah</td>\n",
       "      <td>True</td>\n",
       "    </tr>\n",
       "    <tr>\n",
       "      <th>658</th>\n",
       "      <td>3113.515126</td>\n",
       "      <td>0.0</td>\n",
       "      <td>0.0</td>\n",
       "      <td>0.0</td>\n",
       "      <td>0.0</td>\n",
       "      <td>0.000000</td>\n",
       "      <td>0.0</td>\n",
       "      <td>0.0</td>\n",
       "      <td>0.0</td>\n",
       "      <td>0.0</td>\n",
       "      <td>5604.311130</td>\n",
       "      <td>9</td>\n",
       "      <td>Argentina</td>\n",
       "      <td>ARG</td>\n",
       "      <td>20182</td>\n",
       "      <td>Rio de la Plata</td>\n",
       "      <td>True</td>\n",
       "      <td>19604</td>\n",
       "      <td>Bahía de Samborombón</td>\n",
       "      <td>True</td>\n",
       "    </tr>\n",
       "    <tr>\n",
       "      <th>658</th>\n",
       "      <td>3113.515126</td>\n",
       "      <td>0.0</td>\n",
       "      <td>0.0</td>\n",
       "      <td>0.0</td>\n",
       "      <td>0.0</td>\n",
       "      <td>0.000000</td>\n",
       "      <td>0.0</td>\n",
       "      <td>0.0</td>\n",
       "      <td>0.0</td>\n",
       "      <td>0.0</td>\n",
       "      <td>5604.311130</td>\n",
       "      <td>9</td>\n",
       "      <td>Argentina</td>\n",
       "      <td>ARG</td>\n",
       "      <td>20182</td>\n",
       "      <td>Rio de la Plata</td>\n",
       "      <td>True</td>\n",
       "      <td>555577543</td>\n",
       "      <td>Campos del Tuyú</td>\n",
       "      <td>True</td>\n",
       "    </tr>\n",
       "  </tbody>\n",
       "</table>\n",
       "</div>"
      ],
      "text/plain": [
       "        transition_0  transition_1  transition_2  transition_3  transition_4  \\\n",
       "cep_id                                                                         \n",
       "316     78844.647179           0.0           0.0           0.0           0.0   \n",
       "548     17413.521867           0.0           0.0           0.0           0.0   \n",
       "553     43883.138540           0.0           0.0           0.0           0.0   \n",
       "658      3113.515126           0.0           0.0           0.0           0.0   \n",
       "658      3113.515126           0.0           0.0           0.0           0.0   \n",
       "\n",
       "        transition_5  transition_6  transition_7  transition_8  transition_9  \\\n",
       "cep_id                                                                         \n",
       "316         0.000000           0.0           0.0           0.0           0.0   \n",
       "548         0.000000           0.0           0.0           0.0           0.0   \n",
       "553      1393.109387           0.0           0.0           0.0           0.0   \n",
       "658         0.000000           0.0           0.0           0.0           0.0   \n",
       "658         0.000000           0.0           0.0           0.0           0.0   \n",
       "\n",
       "        transition_10  country          country_name iso3    eco  \\\n",
       "cep_id                                                             \n",
       "316          0.000000        6               Albania  ALB  20030   \n",
       "548        696.524314        8  United Arab Emirates  ARE  20090   \n",
       "553      13234.579442        8  United Arab Emirates  ARE  20090   \n",
       "658       5604.311130        9             Argentina  ARG  20182   \n",
       "658       5604.311130        9             Argentina  ARG  20182   \n",
       "\n",
       "                      eco_name  is_marine         pa               pa_name  \\\n",
       "cep_id                                                                       \n",
       "316               Adriatic Sea       True      11664             Rrushkull   \n",
       "548     Arabian (Persian) Gulf       True  555622078              Al Zorah   \n",
       "553     Arabian (Persian) Gulf       True  555625658              Al Zorah   \n",
       "658            Rio de la Plata       True      19604  Bahía de Samborombón   \n",
       "658            Rio de la Plata       True  555577543       Campos del Tuyú   \n",
       "\n",
       "        is_protected  \n",
       "cep_id                \n",
       "316             True  \n",
       "548             True  \n",
       "553             True  \n",
       "658             True  \n",
       "658             True  "
      ]
     },
     "execution_count": 14,
     "metadata": {},
     "output_type": "execute_result"
    }
   ],
   "source": [
    "# check where is_marine true, it has large band 1 area the other values should be 0 or near 0 if it's near coastlines (e.g reefs)\n",
    "cursor = conn.cursor()\n",
    "# Select all rows where is_marine is true and transition_1 is less than 1\n",
    "cursor.execute('SELECT * FROM cep_water WHERE is_marine = TRUE AND \"transition_1\" < 1')\n",
    "# put the result in a dataframe and add the column names\n",
    "df = pd.DataFrame(cursor.fetchall(), columns=[desc[0] for desc in cursor.description])\n",
    "df.set_index('cep_id', inplace=True)\n",
    "cursor.close()\n",
    "percentage_of_marine_without_permanent_water = len(df) / db_length * 100\n",
    "df.head()"
   ]
  },
  {
   "cell_type": "code",
   "execution_count": 15,
   "metadata": {},
   "outputs": [
    {
     "data": {
      "text/html": [
       "<div>\n",
       "<style scoped>\n",
       "    .dataframe tbody tr th:only-of-type {\n",
       "        vertical-align: middle;\n",
       "    }\n",
       "\n",
       "    .dataframe tbody tr th {\n",
       "        vertical-align: top;\n",
       "    }\n",
       "\n",
       "    .dataframe thead th {\n",
       "        text-align: right;\n",
       "    }\n",
       "</style>\n",
       "<table border=\"1\" class=\"dataframe\">\n",
       "  <thead>\n",
       "    <tr style=\"text-align: right;\">\n",
       "      <th></th>\n",
       "      <th>transition_0</th>\n",
       "      <th>transition_1</th>\n",
       "      <th>transition_2</th>\n",
       "      <th>transition_3</th>\n",
       "      <th>transition_4</th>\n",
       "      <th>transition_5</th>\n",
       "      <th>transition_6</th>\n",
       "      <th>transition_7</th>\n",
       "      <th>transition_8</th>\n",
       "      <th>transition_9</th>\n",
       "      <th>transition_10</th>\n",
       "      <th>country</th>\n",
       "      <th>country_name</th>\n",
       "      <th>iso3</th>\n",
       "      <th>eco</th>\n",
       "      <th>eco_name</th>\n",
       "      <th>is_marine</th>\n",
       "      <th>pa</th>\n",
       "      <th>pa_name</th>\n",
       "      <th>is_protected</th>\n",
       "    </tr>\n",
       "    <tr>\n",
       "      <th>cep_id</th>\n",
       "      <th></th>\n",
       "      <th></th>\n",
       "      <th></th>\n",
       "      <th></th>\n",
       "      <th></th>\n",
       "      <th></th>\n",
       "      <th></th>\n",
       "      <th></th>\n",
       "      <th></th>\n",
       "      <th></th>\n",
       "      <th></th>\n",
       "      <th></th>\n",
       "      <th></th>\n",
       "      <th></th>\n",
       "      <th></th>\n",
       "      <th></th>\n",
       "      <th></th>\n",
       "      <th></th>\n",
       "      <th></th>\n",
       "      <th></th>\n",
       "    </tr>\n",
       "  </thead>\n",
       "  <tbody>\n",
       "    <tr>\n",
       "      <th>2</th>\n",
       "      <td>1.366843e+12</td>\n",
       "      <td>7.194092e+12</td>\n",
       "      <td>0.0</td>\n",
       "      <td>0.0</td>\n",
       "      <td>0.0</td>\n",
       "      <td>0.0</td>\n",
       "      <td>0.0</td>\n",
       "      <td>0.0</td>\n",
       "      <td>0.0</td>\n",
       "      <td>0.0</td>\n",
       "      <td>0.0</td>\n",
       "      <td>1</td>\n",
       "      <td>Area Beyond National Jurisdiction</td>\n",
       "      <td>ABNJ</td>\n",
       "      <td>1</td>\n",
       "      <td>Antarctic</td>\n",
       "      <td>True</td>\n",
       "      <td>0</td>\n",
       "      <td>None</td>\n",
       "      <td>False</td>\n",
       "    </tr>\n",
       "    <tr>\n",
       "      <th>4</th>\n",
       "      <td>0.000000e+00</td>\n",
       "      <td>1.836981e+06</td>\n",
       "      <td>0.0</td>\n",
       "      <td>0.0</td>\n",
       "      <td>0.0</td>\n",
       "      <td>0.0</td>\n",
       "      <td>0.0</td>\n",
       "      <td>0.0</td>\n",
       "      <td>0.0</td>\n",
       "      <td>0.0</td>\n",
       "      <td>0.0</td>\n",
       "      <td>1</td>\n",
       "      <td>Area Beyond National Jurisdiction</td>\n",
       "      <td>ABNJ</td>\n",
       "      <td>1</td>\n",
       "      <td>Antarctic</td>\n",
       "      <td>True</td>\n",
       "      <td>555547601</td>\n",
       "      <td>South Georgia and South Sandwich Islands Marin...</td>\n",
       "      <td>True</td>\n",
       "    </tr>\n",
       "    <tr>\n",
       "      <th>6</th>\n",
       "      <td>6.328776e+11</td>\n",
       "      <td>1.038784e+13</td>\n",
       "      <td>0.0</td>\n",
       "      <td>0.0</td>\n",
       "      <td>0.0</td>\n",
       "      <td>0.0</td>\n",
       "      <td>0.0</td>\n",
       "      <td>0.0</td>\n",
       "      <td>0.0</td>\n",
       "      <td>0.0</td>\n",
       "      <td>0.0</td>\n",
       "      <td>1</td>\n",
       "      <td>Area Beyond National Jurisdiction</td>\n",
       "      <td>ABNJ</td>\n",
       "      <td>2</td>\n",
       "      <td>Antarctic Polar Front</td>\n",
       "      <td>True</td>\n",
       "      <td>0</td>\n",
       "      <td>None</td>\n",
       "      <td>False</td>\n",
       "    </tr>\n",
       "    <tr>\n",
       "      <th>7</th>\n",
       "      <td>0.000000e+00</td>\n",
       "      <td>1.167926e+10</td>\n",
       "      <td>0.0</td>\n",
       "      <td>0.0</td>\n",
       "      <td>0.0</td>\n",
       "      <td>0.0</td>\n",
       "      <td>0.0</td>\n",
       "      <td>0.0</td>\n",
       "      <td>0.0</td>\n",
       "      <td>0.0</td>\n",
       "      <td>0.0</td>\n",
       "      <td>1</td>\n",
       "      <td>Area Beyond National Jurisdiction</td>\n",
       "      <td>ABNJ</td>\n",
       "      <td>2</td>\n",
       "      <td>Antarctic Polar Front</td>\n",
       "      <td>True</td>\n",
       "      <td>345888</td>\n",
       "      <td>Terres Australes Françaises</td>\n",
       "      <td>True</td>\n",
       "    </tr>\n",
       "    <tr>\n",
       "      <th>8</th>\n",
       "      <td>0.000000e+00</td>\n",
       "      <td>5.916302e+09</td>\n",
       "      <td>0.0</td>\n",
       "      <td>0.0</td>\n",
       "      <td>0.0</td>\n",
       "      <td>0.0</td>\n",
       "      <td>0.0</td>\n",
       "      <td>0.0</td>\n",
       "      <td>0.0</td>\n",
       "      <td>0.0</td>\n",
       "      <td>0.0</td>\n",
       "      <td>1</td>\n",
       "      <td>Area Beyond National Jurisdiction</td>\n",
       "      <td>ABNJ</td>\n",
       "      <td>2</td>\n",
       "      <td>Antarctic Polar Front</td>\n",
       "      <td>True</td>\n",
       "      <td>345888</td>\n",
       "      <td>Terres Australes Françaises</td>\n",
       "      <td>True</td>\n",
       "    </tr>\n",
       "  </tbody>\n",
       "</table>\n",
       "</div>"
      ],
      "text/plain": [
       "        transition_0  transition_1  transition_2  transition_3  transition_4  \\\n",
       "cep_id                                                                         \n",
       "2       1.366843e+12  7.194092e+12           0.0           0.0           0.0   \n",
       "4       0.000000e+00  1.836981e+06           0.0           0.0           0.0   \n",
       "6       6.328776e+11  1.038784e+13           0.0           0.0           0.0   \n",
       "7       0.000000e+00  1.167926e+10           0.0           0.0           0.0   \n",
       "8       0.000000e+00  5.916302e+09           0.0           0.0           0.0   \n",
       "\n",
       "        transition_5  transition_6  transition_7  transition_8  transition_9  \\\n",
       "cep_id                                                                         \n",
       "2                0.0           0.0           0.0           0.0           0.0   \n",
       "4                0.0           0.0           0.0           0.0           0.0   \n",
       "6                0.0           0.0           0.0           0.0           0.0   \n",
       "7                0.0           0.0           0.0           0.0           0.0   \n",
       "8                0.0           0.0           0.0           0.0           0.0   \n",
       "\n",
       "        transition_10  country                       country_name  iso3  eco  \\\n",
       "cep_id                                                                         \n",
       "2                 0.0        1  Area Beyond National Jurisdiction  ABNJ    1   \n",
       "4                 0.0        1  Area Beyond National Jurisdiction  ABNJ    1   \n",
       "6                 0.0        1  Area Beyond National Jurisdiction  ABNJ    2   \n",
       "7                 0.0        1  Area Beyond National Jurisdiction  ABNJ    2   \n",
       "8                 0.0        1  Area Beyond National Jurisdiction  ABNJ    2   \n",
       "\n",
       "                     eco_name  is_marine         pa  \\\n",
       "cep_id                                                \n",
       "2                   Antarctic       True          0   \n",
       "4                   Antarctic       True  555547601   \n",
       "6       Antarctic Polar Front       True          0   \n",
       "7       Antarctic Polar Front       True     345888   \n",
       "8       Antarctic Polar Front       True     345888   \n",
       "\n",
       "                                                  pa_name  is_protected  \n",
       "cep_id                                                                   \n",
       "2                                                    None         False  \n",
       "4       South Georgia and South Sandwich Islands Marin...          True  \n",
       "6                                                    None         False  \n",
       "7                             Terres Australes Françaises          True  \n",
       "8                             Terres Australes Françaises          True  "
      ]
     },
     "execution_count": 15,
     "metadata": {},
     "output_type": "execute_result"
    }
   ],
   "source": [
    "# check where is_marine true, it has large band 1 area the other values should be 0 or near 0 if it's near coastlines (e.g reefs)\n",
    "cursor = conn.cursor()\n",
    "# Select all rows where is_marine is true and transition_1 is less than 1\n",
    "cursor.execute('SELECT * FROM cep_water WHERE is_marine = TRUE AND \"transition_1\" > 1')\n",
    "# put the result in a dataframe and add the column names\n",
    "df = pd.DataFrame(cursor.fetchall(), columns=[desc[0] for desc in cursor.description])\n",
    "df.set_index('cep_id', inplace=True)\n",
    "cursor.close()\n",
    "percentage_of_marine_with_permanent_water = len(df) / db_length * 100\n",
    "df.head()"
   ]
  },
  {
   "cell_type": "code",
   "execution_count": 16,
   "metadata": {},
   "outputs": [
    {
     "data": {
      "application/vnd.plotly.v1+json": {
       "config": {
        "plotlyServerURL": "https://plot.ly"
       },
       "data": [
        {
         "domain": {
          "x": [
           0,
           1
          ],
          "y": [
           0,
           1
          ]
         },
         "hovertemplate": "label=%{label}<br>value=%{value}<extra></extra>",
         "labels": [
          "Marine without permanent water",
          "Marine with permanent water",
          "Land"
         ],
         "legendgroup": "",
         "name": "",
         "showlegend": true,
         "type": "pie",
         "values": [
          2.8679323774754164,
          9.670829119477457,
          87.46123850304713
         ]
        }
       ],
       "layout": {
        "height": 600,
        "legend": {
         "tracegroupgap": 0
        },
        "template": {
         "data": {
          "bar": [
           {
            "error_x": {
             "color": "#f2f5fa"
            },
            "error_y": {
             "color": "#f2f5fa"
            },
            "marker": {
             "line": {
              "color": "rgb(17,17,17)",
              "width": 0.5
             },
             "pattern": {
              "fillmode": "overlay",
              "size": 10,
              "solidity": 0.2
             }
            },
            "type": "bar"
           }
          ],
          "barpolar": [
           {
            "marker": {
             "line": {
              "color": "rgb(17,17,17)",
              "width": 0.5
             },
             "pattern": {
              "fillmode": "overlay",
              "size": 10,
              "solidity": 0.2
             }
            },
            "type": "barpolar"
           }
          ],
          "carpet": [
           {
            "aaxis": {
             "endlinecolor": "#A2B1C6",
             "gridcolor": "#506784",
             "linecolor": "#506784",
             "minorgridcolor": "#506784",
             "startlinecolor": "#A2B1C6"
            },
            "baxis": {
             "endlinecolor": "#A2B1C6",
             "gridcolor": "#506784",
             "linecolor": "#506784",
             "minorgridcolor": "#506784",
             "startlinecolor": "#A2B1C6"
            },
            "type": "carpet"
           }
          ],
          "choropleth": [
           {
            "colorbar": {
             "outlinewidth": 0,
             "ticks": ""
            },
            "type": "choropleth"
           }
          ],
          "contour": [
           {
            "colorbar": {
             "outlinewidth": 0,
             "ticks": ""
            },
            "colorscale": [
             [
              0,
              "#0d0887"
             ],
             [
              0.1111111111111111,
              "#46039f"
             ],
             [
              0.2222222222222222,
              "#7201a8"
             ],
             [
              0.3333333333333333,
              "#9c179e"
             ],
             [
              0.4444444444444444,
              "#bd3786"
             ],
             [
              0.5555555555555556,
              "#d8576b"
             ],
             [
              0.6666666666666666,
              "#ed7953"
             ],
             [
              0.7777777777777778,
              "#fb9f3a"
             ],
             [
              0.8888888888888888,
              "#fdca26"
             ],
             [
              1,
              "#f0f921"
             ]
            ],
            "type": "contour"
           }
          ],
          "contourcarpet": [
           {
            "colorbar": {
             "outlinewidth": 0,
             "ticks": ""
            },
            "type": "contourcarpet"
           }
          ],
          "heatmap": [
           {
            "colorbar": {
             "outlinewidth": 0,
             "ticks": ""
            },
            "colorscale": [
             [
              0,
              "#0d0887"
             ],
             [
              0.1111111111111111,
              "#46039f"
             ],
             [
              0.2222222222222222,
              "#7201a8"
             ],
             [
              0.3333333333333333,
              "#9c179e"
             ],
             [
              0.4444444444444444,
              "#bd3786"
             ],
             [
              0.5555555555555556,
              "#d8576b"
             ],
             [
              0.6666666666666666,
              "#ed7953"
             ],
             [
              0.7777777777777778,
              "#fb9f3a"
             ],
             [
              0.8888888888888888,
              "#fdca26"
             ],
             [
              1,
              "#f0f921"
             ]
            ],
            "type": "heatmap"
           }
          ],
          "heatmapgl": [
           {
            "colorbar": {
             "outlinewidth": 0,
             "ticks": ""
            },
            "colorscale": [
             [
              0,
              "#0d0887"
             ],
             [
              0.1111111111111111,
              "#46039f"
             ],
             [
              0.2222222222222222,
              "#7201a8"
             ],
             [
              0.3333333333333333,
              "#9c179e"
             ],
             [
              0.4444444444444444,
              "#bd3786"
             ],
             [
              0.5555555555555556,
              "#d8576b"
             ],
             [
              0.6666666666666666,
              "#ed7953"
             ],
             [
              0.7777777777777778,
              "#fb9f3a"
             ],
             [
              0.8888888888888888,
              "#fdca26"
             ],
             [
              1,
              "#f0f921"
             ]
            ],
            "type": "heatmapgl"
           }
          ],
          "histogram": [
           {
            "marker": {
             "pattern": {
              "fillmode": "overlay",
              "size": 10,
              "solidity": 0.2
             }
            },
            "type": "histogram"
           }
          ],
          "histogram2d": [
           {
            "colorbar": {
             "outlinewidth": 0,
             "ticks": ""
            },
            "colorscale": [
             [
              0,
              "#0d0887"
             ],
             [
              0.1111111111111111,
              "#46039f"
             ],
             [
              0.2222222222222222,
              "#7201a8"
             ],
             [
              0.3333333333333333,
              "#9c179e"
             ],
             [
              0.4444444444444444,
              "#bd3786"
             ],
             [
              0.5555555555555556,
              "#d8576b"
             ],
             [
              0.6666666666666666,
              "#ed7953"
             ],
             [
              0.7777777777777778,
              "#fb9f3a"
             ],
             [
              0.8888888888888888,
              "#fdca26"
             ],
             [
              1,
              "#f0f921"
             ]
            ],
            "type": "histogram2d"
           }
          ],
          "histogram2dcontour": [
           {
            "colorbar": {
             "outlinewidth": 0,
             "ticks": ""
            },
            "colorscale": [
             [
              0,
              "#0d0887"
             ],
             [
              0.1111111111111111,
              "#46039f"
             ],
             [
              0.2222222222222222,
              "#7201a8"
             ],
             [
              0.3333333333333333,
              "#9c179e"
             ],
             [
              0.4444444444444444,
              "#bd3786"
             ],
             [
              0.5555555555555556,
              "#d8576b"
             ],
             [
              0.6666666666666666,
              "#ed7953"
             ],
             [
              0.7777777777777778,
              "#fb9f3a"
             ],
             [
              0.8888888888888888,
              "#fdca26"
             ],
             [
              1,
              "#f0f921"
             ]
            ],
            "type": "histogram2dcontour"
           }
          ],
          "mesh3d": [
           {
            "colorbar": {
             "outlinewidth": 0,
             "ticks": ""
            },
            "type": "mesh3d"
           }
          ],
          "parcoords": [
           {
            "line": {
             "colorbar": {
              "outlinewidth": 0,
              "ticks": ""
             }
            },
            "type": "parcoords"
           }
          ],
          "pie": [
           {
            "automargin": true,
            "type": "pie"
           }
          ],
          "scatter": [
           {
            "marker": {
             "line": {
              "color": "#283442"
             }
            },
            "type": "scatter"
           }
          ],
          "scatter3d": [
           {
            "line": {
             "colorbar": {
              "outlinewidth": 0,
              "ticks": ""
             }
            },
            "marker": {
             "colorbar": {
              "outlinewidth": 0,
              "ticks": ""
             }
            },
            "type": "scatter3d"
           }
          ],
          "scattercarpet": [
           {
            "marker": {
             "colorbar": {
              "outlinewidth": 0,
              "ticks": ""
             }
            },
            "type": "scattercarpet"
           }
          ],
          "scattergeo": [
           {
            "marker": {
             "colorbar": {
              "outlinewidth": 0,
              "ticks": ""
             }
            },
            "type": "scattergeo"
           }
          ],
          "scattergl": [
           {
            "marker": {
             "line": {
              "color": "#283442"
             }
            },
            "type": "scattergl"
           }
          ],
          "scattermapbox": [
           {
            "marker": {
             "colorbar": {
              "outlinewidth": 0,
              "ticks": ""
             }
            },
            "type": "scattermapbox"
           }
          ],
          "scatterpolar": [
           {
            "marker": {
             "colorbar": {
              "outlinewidth": 0,
              "ticks": ""
             }
            },
            "type": "scatterpolar"
           }
          ],
          "scatterpolargl": [
           {
            "marker": {
             "colorbar": {
              "outlinewidth": 0,
              "ticks": ""
             }
            },
            "type": "scatterpolargl"
           }
          ],
          "scatterternary": [
           {
            "marker": {
             "colorbar": {
              "outlinewidth": 0,
              "ticks": ""
             }
            },
            "type": "scatterternary"
           }
          ],
          "surface": [
           {
            "colorbar": {
             "outlinewidth": 0,
             "ticks": ""
            },
            "colorscale": [
             [
              0,
              "#0d0887"
             ],
             [
              0.1111111111111111,
              "#46039f"
             ],
             [
              0.2222222222222222,
              "#7201a8"
             ],
             [
              0.3333333333333333,
              "#9c179e"
             ],
             [
              0.4444444444444444,
              "#bd3786"
             ],
             [
              0.5555555555555556,
              "#d8576b"
             ],
             [
              0.6666666666666666,
              "#ed7953"
             ],
             [
              0.7777777777777778,
              "#fb9f3a"
             ],
             [
              0.8888888888888888,
              "#fdca26"
             ],
             [
              1,
              "#f0f921"
             ]
            ],
            "type": "surface"
           }
          ],
          "table": [
           {
            "cells": {
             "fill": {
              "color": "#506784"
             },
             "line": {
              "color": "rgb(17,17,17)"
             }
            },
            "header": {
             "fill": {
              "color": "#2a3f5f"
             },
             "line": {
              "color": "rgb(17,17,17)"
             }
            },
            "type": "table"
           }
          ]
         },
         "layout": {
          "annotationdefaults": {
           "arrowcolor": "#f2f5fa",
           "arrowhead": 0,
           "arrowwidth": 1
          },
          "autotypenumbers": "strict",
          "coloraxis": {
           "colorbar": {
            "outlinewidth": 0,
            "ticks": ""
           }
          },
          "colorscale": {
           "diverging": [
            [
             0,
             "#8e0152"
            ],
            [
             0.1,
             "#c51b7d"
            ],
            [
             0.2,
             "#de77ae"
            ],
            [
             0.3,
             "#f1b6da"
            ],
            [
             0.4,
             "#fde0ef"
            ],
            [
             0.5,
             "#f7f7f7"
            ],
            [
             0.6,
             "#e6f5d0"
            ],
            [
             0.7,
             "#b8e186"
            ],
            [
             0.8,
             "#7fbc41"
            ],
            [
             0.9,
             "#4d9221"
            ],
            [
             1,
             "#276419"
            ]
           ],
           "sequential": [
            [
             0,
             "#0d0887"
            ],
            [
             0.1111111111111111,
             "#46039f"
            ],
            [
             0.2222222222222222,
             "#7201a8"
            ],
            [
             0.3333333333333333,
             "#9c179e"
            ],
            [
             0.4444444444444444,
             "#bd3786"
            ],
            [
             0.5555555555555556,
             "#d8576b"
            ],
            [
             0.6666666666666666,
             "#ed7953"
            ],
            [
             0.7777777777777778,
             "#fb9f3a"
            ],
            [
             0.8888888888888888,
             "#fdca26"
            ],
            [
             1,
             "#f0f921"
            ]
           ],
           "sequentialminus": [
            [
             0,
             "#0d0887"
            ],
            [
             0.1111111111111111,
             "#46039f"
            ],
            [
             0.2222222222222222,
             "#7201a8"
            ],
            [
             0.3333333333333333,
             "#9c179e"
            ],
            [
             0.4444444444444444,
             "#bd3786"
            ],
            [
             0.5555555555555556,
             "#d8576b"
            ],
            [
             0.6666666666666666,
             "#ed7953"
            ],
            [
             0.7777777777777778,
             "#fb9f3a"
            ],
            [
             0.8888888888888888,
             "#fdca26"
            ],
            [
             1,
             "#f0f921"
            ]
           ]
          },
          "colorway": [
           "#636efa",
           "#EF553B",
           "#00cc96",
           "#ab63fa",
           "#FFA15A",
           "#19d3f3",
           "#FF6692",
           "#B6E880",
           "#FF97FF",
           "#FECB52"
          ],
          "font": {
           "color": "#f2f5fa"
          },
          "geo": {
           "bgcolor": "rgb(17,17,17)",
           "lakecolor": "rgb(17,17,17)",
           "landcolor": "rgb(17,17,17)",
           "showlakes": true,
           "showland": true,
           "subunitcolor": "#506784"
          },
          "hoverlabel": {
           "align": "left"
          },
          "hovermode": "closest",
          "mapbox": {
           "style": "dark"
          },
          "paper_bgcolor": "rgb(17,17,17)",
          "plot_bgcolor": "rgb(17,17,17)",
          "polar": {
           "angularaxis": {
            "gridcolor": "#506784",
            "linecolor": "#506784",
            "ticks": ""
           },
           "bgcolor": "rgb(17,17,17)",
           "radialaxis": {
            "gridcolor": "#506784",
            "linecolor": "#506784",
            "ticks": ""
           }
          },
          "scene": {
           "xaxis": {
            "backgroundcolor": "rgb(17,17,17)",
            "gridcolor": "#506784",
            "gridwidth": 2,
            "linecolor": "#506784",
            "showbackground": true,
            "ticks": "",
            "zerolinecolor": "#C8D4E3"
           },
           "yaxis": {
            "backgroundcolor": "rgb(17,17,17)",
            "gridcolor": "#506784",
            "gridwidth": 2,
            "linecolor": "#506784",
            "showbackground": true,
            "ticks": "",
            "zerolinecolor": "#C8D4E3"
           },
           "zaxis": {
            "backgroundcolor": "rgb(17,17,17)",
            "gridcolor": "#506784",
            "gridwidth": 2,
            "linecolor": "#506784",
            "showbackground": true,
            "ticks": "",
            "zerolinecolor": "#C8D4E3"
           }
          },
          "shapedefaults": {
           "line": {
            "color": "#f2f5fa"
           }
          },
          "sliderdefaults": {
           "bgcolor": "#C8D4E3",
           "bordercolor": "rgb(17,17,17)",
           "borderwidth": 1,
           "tickwidth": 0
          },
          "ternary": {
           "aaxis": {
            "gridcolor": "#506784",
            "linecolor": "#506784",
            "ticks": ""
           },
           "baxis": {
            "gridcolor": "#506784",
            "linecolor": "#506784",
            "ticks": ""
           },
           "bgcolor": "rgb(17,17,17)",
           "caxis": {
            "gridcolor": "#506784",
            "linecolor": "#506784",
            "ticks": ""
           }
          },
          "title": {
           "x": 0.05
          },
          "updatemenudefaults": {
           "bgcolor": "#506784",
           "borderwidth": 0
          },
          "xaxis": {
           "automargin": true,
           "gridcolor": "#283442",
           "linecolor": "#506784",
           "ticks": "",
           "title": {
            "standoff": 15
           },
           "zerolinecolor": "#283442",
           "zerolinewidth": 2
          },
          "yaxis": {
           "automargin": true,
           "gridcolor": "#283442",
           "linecolor": "#506784",
           "ticks": "",
           "title": {
            "standoff": 15
           },
           "zerolinecolor": "#283442",
           "zerolinewidth": 2
          }
         }
        },
        "title": {
         "text": "Percentage of marine areas with and without permanent water"
        },
        "width": 600
       }
      }
     },
     "metadata": {},
     "output_type": "display_data"
    }
   ],
   "source": [
    "fig = px.pie(values=[percentage_of_marine_without_permanent_water, percentage_of_marine_with_permanent_water, 100 - percentage_of_marine_without_permanent_water - percentage_of_marine_with_permanent_water], names=['Marine with no permanent water', 'Marine with permanent water', 'Non-marine area (any bands)'], title='Percentage of marine areas with and without permanent water')\n",
    "# change layout to dark theme make the chart square\n",
    "fig.update_layout(template='plotly_dark', width=600, height=600)\n",
    "fig.show()"
   ]
  },
  {
   "cell_type": "code",
   "execution_count": 17,
   "metadata": {},
   "outputs": [],
   "source": [
    "conn.close()"
   ]
  },
  {
   "cell_type": "code",
   "execution_count": null,
   "metadata": {},
   "outputs": [],
   "source": [
    "raise Exception('Stop here')"
   ]
  },
  {
   "cell_type": "markdown",
   "metadata": {},
   "source": [
    "# Summaries"
   ]
  },
  {
   "cell_type": "code",
   "execution_count": null,
   "metadata": {},
   "outputs": [],
   "source": [
    "def get_summed_bands_by_col(conn, group_by_col = \"country_name\",is_pa=False, is_marine=False, convert_to_meters=False, ):\n",
    "    try:\n",
    "        # create a cursor object using the cursor() method\n",
    "        cursor = conn.cursor()\n",
    "        # query all rows transition_0  to transition_10, filter where pa is 0 and where marine is false, and group by country_name and sum the areas for each transition band\n",
    "        bands_SUM = [f'SUM(transition_{i}) as \"transition_{i}\"' for i in range(11)]\n",
    "        query = sql.SQL('SELECT {group_by_column}, {bands} FROM cep_water WHERE is_protected = {is_pa} AND is_marine = {is_marine} GROUP BY {group_by_column}').format(\n",
    "            bands=sql.SQL(', ').join(map(sql.SQL, bands_SUM)),\n",
    "            is_pa=sql.Literal(is_pa),\n",
    "            is_marine=sql.Literal(is_marine),\n",
    "            group_by_column=sql.Identifier(group_by_col)\n",
    "        )\n",
    "        # #print query as string\n",
    "        # print(query.as_string(conn))                                                                                                                    \n",
    "        # filter where \n",
    "        cursor.execute(query)\n",
    "        result = cursor.fetchall()\n",
    "        cursor.close()\n",
    "\n",
    "        # convert to df and set index to group_by_col\n",
    "        df = pd.DataFrame(result, columns=[group_by_col]+[f'transition_{i}' for i in range(11)])\n",
    "        df.set_index(group_by_col, inplace=True)\n",
    "        # convert to meters\n",
    "        if convert_to_meters:\n",
    "            df = df.apply(lambda x: x/1000000)\n",
    "        return df\n",
    "        \n",
    "        #return result\n",
    "    except Exception as e:\n",
    "        print(\"error: \", e)\n",
    "    finally:\n",
    "        conn.rollback()"
   ]
  },
  {
   "cell_type": "code",
   "execution_count": null,
   "metadata": {},
   "outputs": [],
   "source": [
    "df_protected = get_summed_bands_by_col(conn, group_by_col = \"country_name\",is_pa=True, is_marine=False, convert_to_meters=True)\n",
    "df_unprotected = get_summed_bands_by_col(conn, group_by_col = \"country_name\",is_pa=False, is_marine=False, convert_to_meters=True)\n",
    "df_terrestrial_eco = get_summed_bands_by_col(conn, group_by_col = \"eco\",is_pa=False, is_marine=False, convert_to_meters=True)"
   ]
  },
  {
   "cell_type": "code",
   "execution_count": null,
   "metadata": {},
   "outputs": [],
   "source": [
    "df_terrestrial_eco"
   ]
  },
  {
   "cell_type": "code",
   "execution_count": null,
   "metadata": {},
   "outputs": [],
   "source": [
    "df_protected"
   ]
  },
  {
   "cell_type": "code",
   "execution_count": null,
   "metadata": {},
   "outputs": [],
   "source": [
    "df_unprotected"
   ]
  },
  {
   "cell_type": "code",
   "execution_count": null,
   "metadata": {},
   "outputs": [],
   "source": [
    "conn.close()"
   ]
  }
 ],
 "metadata": {
  "kernelspec": {
   "display_name": "env",
   "language": "python",
   "name": "python3"
  },
  "language_info": {
   "codemirror_mode": {
    "name": "ipython",
    "version": 3
   },
   "file_extension": ".py",
   "mimetype": "text/x-python",
   "name": "python",
   "nbconvert_exporter": "python",
   "pygments_lexer": "ipython3",
   "version": "3.12.0"
  }
 },
 "nbformat": 4,
 "nbformat_minor": 2
}
