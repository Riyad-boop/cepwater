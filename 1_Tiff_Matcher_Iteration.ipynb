{
 "cells": [
  {
   "cell_type": "code",
   "execution_count": 18,
   "metadata": {},
   "outputs": [],
   "source": [
    "import os\n",
    "\n",
    "# get environment variables\n",
    "cep_tiles_directory = os.environ['CEP_TILES_DIRECTORY']\n",
    "water_tiles_directory = os.environ['WATER_TILES_DIRECTORY']\n"
   ]
  },
  {
   "cell_type": "markdown",
   "metadata": {},
   "source": [
    "# Renaming JRC CEP tiles to geographic degrees"
   ]
  },
  {
   "cell_type": "code",
   "execution_count": 19,
   "metadata": {},
   "outputs": [],
   "source": [
    "class TiffMatcher:\n",
    "    def __init__(self, cep_tiles_directory, water_tiles_directory,is_cep_renamed=False,is_water_renamed=False):\n",
    "        self.cep_tiles_directory = cep_tiles_directory\n",
    "        self.water_tiles_directory = water_tiles_directory\n",
    "        if is_cep_renamed == False:\n",
    "            self.rename_cep_files()\n",
    "        if is_water_renamed == False:\n",
    "            self.rename_water_transition_tiles()\n",
    "\n",
    "        # create a dictionary of the paired files in the two directories\n",
    "        self.matches = {os.path.join(water_tiles_directory, file): os.path.join(cep_tiles_directory, file) \n",
    "                for file in os.listdir(water_tiles_directory) if file.endswith('.tiff')}\n",
    "\n",
    "    def write_matching_files(self):\n",
    "        # write the matching files to a text file\n",
    "        with open('matches.txt', 'w') as f:\n",
    "            for key, value in self.matches.items():\n",
    "                f.write(f'{key} {value}\\n')\n",
    "        \n",
    "    def get_new_coordinates(count, north, east, south, west, northmode, eastmode):\n",
    "        # NORTH/SOUTH LOGIC\n",
    "        if northmode == True:\n",
    "            if count % 36 == 0:\n",
    "                north += 10\n",
    "\n",
    "        elif count % 36 == 0:\n",
    "            south -= 10\n",
    "            if south == 0:\n",
    "                northmode = True\n",
    "\n",
    "        # EAST/WEST LOGIC\n",
    "        if eastmode:\n",
    "            east += 10\n",
    "            if east > 170:\n",
    "                eastmode = False\n",
    "                west = 180\n",
    "                east = 0\n",
    "        else:\n",
    "            west -= 10\n",
    "            if west <= 0:\n",
    "                eastmode = True\n",
    "                east = 0\n",
    "                west = 180\n",
    "\n",
    "        return north, east, south, west, northmode, eastmode\n",
    "\n",
    "    def rename_cep_files(self):\n",
    "        count = 0\n",
    "        # south starts at 80 because we look at the top of the tile.\n",
    "        north, east, south, west = 0, 0, 80, 180\n",
    "        northmode, eastmode = False, False\n",
    "\n",
    "        for count in range(648):\n",
    "            prefix = f\"{west}W\" if not eastmode else f\"{east}E\"\n",
    "            suffix = f\"{south}S\" if not northmode else f\"{north}N\"\n",
    "\n",
    "            old_path = os.path.join(self.cep_tiles_directory, f\"{count+1}.tiff\")\n",
    "            new_path = os.path.join(self.cep_tiles_directory, f\"{prefix}_{suffix}.tiff\")\n",
    "            # rename the file\n",
    "            os.rename(old_path, new_path)\n",
    "\n",
    "            count += 1\n",
    "            north, east, south, west, northmode, eastmode = self.get_new_coordinates(count, north, east, south, west, northmode, eastmode)\n",
    "\n",
    "    def rename_water_transition_tiles(self):\n",
    "        # get the list of files in the directory\n",
    "        tif_files = [f for f in os.listdir(water_tiles_directory) if f.endswith('.tif')]\n",
    "        \n",
    "        for file in tif_files:\n",
    "            # e.g transitions_0E_0Nv1_4_2021.tif -> 0E_0N.tif\n",
    "            new_name = f'{file.split(\"_\")[1]}_{file.split(\"_\")[2].split(\"v\")[0]}.tiff'\n",
    "            os.rename(os.path.join(self.water_tiles_directory, file), os.path.join(self.water_tiles_directory, new_name))\n"
   ]
  },
  {
   "cell_type": "code",
   "execution_count": 20,
   "metadata": {},
   "outputs": [
    {
     "name": "stdout",
     "output_type": "stream",
     "text": [
      "C:\\\\Users\\\\riyad\\\\Documents\\\\Subjects\\\\WaterQualityContract\\\\JRC\\\\cep_oecm202302\\\\cep_oecm202302\\\\tiles\\0E_0N.tiff C:\\\\Users\\\\riyad\\\\Documents\\\\Subjects\\\\WaterQualityContract\\\\GSW\\\\data\\0E_0N.tiff\n"
     ]
    }
   ],
   "source": [
    "tiffmatcher = TiffMatcher(water_tiles_directory, cep_tiles_directory, is_cep_renamed=True, is_water_renamed=True)\n",
    "tiffmatcher.write_matching_files()\n",
    "#check first match pair\n",
    "for key, value in tiffmatcher.matches.items():\n",
    "    print(key, value)\n",
    "    break"
   ]
  }
 ],
 "metadata": {
  "kernelspec": {
   "display_name": "env",
   "language": "python",
   "name": "python3"
  },
  "language_info": {
   "codemirror_mode": {
    "name": "ipython",
    "version": 3
   },
   "file_extension": ".py",
   "mimetype": "text/x-python",
   "name": "python",
   "nbconvert_exporter": "python",
   "pygments_lexer": "ipython3",
   "version": "3.12.0"
  }
 },
 "nbformat": 4,
 "nbformat_minor": 2
}
