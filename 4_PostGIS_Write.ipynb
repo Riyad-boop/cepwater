{
 "cells": [
  {
   "cell_type": "markdown",
   "metadata": {},
   "source": [
    "# Writing to local/cloud PostGIS db\n",
    "Execution time ~= 2 minutes"
   ]
  },
  {
   "cell_type": "code",
   "execution_count": 1,
   "metadata": {},
   "outputs": [],
   "source": [
    "import pandas as pd\n",
    "import os\n",
    "import psycopg2 as pg\n",
    "from psycopg2 import sql\n",
    "from sqlalchemy import create_engine"
   ]
  },
  {
   "cell_type": "code",
   "execution_count": 2,
   "metadata": {},
   "outputs": [
    {
     "name": "stdout",
     "output_type": "stream",
     "text": [
      "Using local DB\n"
     ]
    }
   ],
   "source": [
    "valid_answer = True\n",
    "while (valid_answer):\n",
    "    answer = input('Use Cloud DB? (y/n):').lower()\n",
    "    if answer.lower() == 'n' or answer.lower() == 'no':\n",
    "        db_host = os.environ.get('DB_HOST')\n",
    "        db_port = os.environ.get('DB_PORT')\n",
    "        db_user = os.environ.get('DB_USER')\n",
    "        db_password = os.environ.get('DB_PASSWORD')\n",
    "        db_name = os.environ.get('DB_NAME')\n",
    "        valid_answer = False\n",
    "        print('Using local DB')\n",
    "    elif answer.lower() == 'y' or answer.lower() =='yes':\n",
    "        db_host = os.environ.get('DB_HOST')\n",
    "        db_port = os.environ.get('DB_PORT')\n",
    "        db_user = os.environ.get('DB_USER')\n",
    "        db_password = os.environ.get('DB_PASSWORD')\n",
    "        db_name = os.environ.get('DB_NAME')\n",
    "        valid_answer = False\n",
    "        print('Using Cloud DB')\n",
    "    else:\n",
    "        print('Invalid input. Please enter y or n.')\n",
    "\n",
    "db_url = f'postgresql://{db_user}:{db_password}@{db_host}:{db_port}/{db_name}'"
   ]
  },
  {
   "cell_type": "code",
   "execution_count": 3,
   "metadata": {},
   "outputs": [
    {
     "name": "stdout",
     "output_type": "stream",
     "text": [
      "        qid  transition_0  transition_1  transition_2  transition_3  \\\n",
      "cep_id                                                                \n",
      "1         0    895.792133           0.0           0.0           0.0   \n",
      "\n",
      "        transition_4  transition_5  transition_6  transition_7  transition_8  \\\n",
      "cep_id                                                                         \n",
      "1                0.0           0.0           0.0           0.0           0.0   \n",
      "\n",
      "        ...  transition_10  country  country_name iso3    eco  \\\n",
      "cep_id  ...                                                     \n",
      "1       ...            0.0      171     Lithuania  LTU  80412   \n",
      "\n",
      "                              eco_name is_marine  pa  pa_name is_protected  \n",
      "cep_id                                                                      \n",
      "1       Central European mixed forests     False   0     None        False  \n",
      "\n",
      "[1 rows x 21 columns]\n",
      "    quantile_name\n",
      "qid              \n",
      "0         20E_60N\n"
     ]
    }
   ],
   "source": [
    "# read the csv file into a pandas dataframe, replacing NaN with None\n",
    "df = pd.read_csv('final_output.csv', index_col=['cep_id'], dtype={'pa': 'Int64', 'eco': 'Int64', 'country': 'Int64'}).replace({pd.NA: None})\n",
    "print(df.head(1))\n",
    "#read qid df from csv\n",
    "qid_df = pd.read_csv('qid.csv', index_col=['qid'])\n",
    "print(qid_df.head(1))"
   ]
  },
  {
   "cell_type": "code",
   "execution_count": null,
   "metadata": {},
   "outputs": [],
   "source": [
    "#create table from dataframe (Execution time =~ 1:30 min)\n",
    "engine = create_engine(db_url)\n",
    "df.to_sql('cep_water', engine, if_exists='replace')\n",
    "\n",
    "# add qids to cep_water table\n",
    "qid_df.to_sql('cep_qid', engine, if_exists='replace')"
   ]
  },
  {
   "cell_type": "code",
   "execution_count": null,
   "metadata": {},
   "outputs": [],
   "source": [
    "# connect to the database\n",
    "conn = pg.connect(\n",
    "    database=db_name,\n",
    "    user=db_user,\n",
    "    password=db_password,\n",
    "    host=db_host,\n",
    "    port=db_port\n",
    ")\n",
    "\n",
    "#alter table cep_table to add foreign key qid and add relationship to qid table\n",
    "with conn.cursor() as cursor:\n",
    "    cursor.execute(\"\"\"\n",
    "    ALTER TABLE cep_qid\n",
    "    ADD CONSTRAINT unique_qid\n",
    "    UNIQUE(qid);\n",
    "\n",
    "    ALTER TABLE cep_water\n",
    "    ADD CONSTRAINT fk_qid\n",
    "    FOREIGN KEY (qid) \n",
    "    REFERENCES cep_qid(qid);\n",
    "    \"\"\")\n",
    "    conn.commit()\n",
    "\n",
    "# create view to group/sum transition bands by cep_id\n",
    "with conn.cursor() as cursor:\n",
    "    cursor.execute(\"\"\"\n",
    "    DROP VIEW IF EXISTS \"cep_grouped\";\n",
    "    CREATE VIEW cep_grouped AS\n",
    "    WITH groupings AS (\n",
    "        SELECT \n",
    "            cep_water.cep_id,\n",
    "            {bands_SUM}\n",
    "        FROM \n",
    "            cep_water \n",
    "        GROUP BY \n",
    "            cep_water.cep_id\n",
    "    )\n",
    "\n",
    "    -- join temp groupings table with cep_water table, but don't select transition columns\n",
    "    SELECT DISTINCT\n",
    "        cep_water.cep_id,\n",
    "        country,\n",
    "        country_name,\n",
    "        iso3,\n",
    "        eco,\n",
    "        eco_name,\n",
    "        is_marine,\n",
    "        pa,\n",
    "        pa_name,\n",
    "        is_protected,\n",
    "        {groupings_bands}\n",
    "    FROM\n",
    "        cep_water\n",
    "    JOIN\n",
    "        groupings\n",
    "    ON\n",
    "        cep_water.cep_id = groupings.cep_id;\n",
    "    \"\"\"\n",
    "    .format(\n",
    "        # sum all transition bands\n",
    "        bands_SUM = ', '.join([f'SUM(transition_{i}) as \"transition_{i}\"' for i in range(11)]),\n",
    "        # select all columns except transition bands\n",
    "        groupings_bands = ', '.join([f'groupings.transition_{i}' for i in range(11)])\n",
    "    )\n",
    ")\n",
    "    conn.commit()\n",
    "\n",
    "    \n",
    "\n",
    "# close the connection\n",
    "cursor.close()\n",
    "conn.close()\n",
    "\n",
    "# remove df and qid_df from memory\n",
    "del df\n",
    "del qid_df"
   ]
  }
 ],
 "metadata": {
  "kernelspec": {
   "display_name": "env",
   "language": "python",
   "name": "python3"
  },
  "language_info": {
   "codemirror_mode": {
    "name": "ipython",
    "version": 3
   },
   "file_extension": ".py",
   "mimetype": "text/x-python",
   "name": "python",
   "nbconvert_exporter": "python",
   "pygments_lexer": "ipython3",
   "version": "3.12.0"
  }
 },
 "nbformat": 4,
 "nbformat_minor": 2
}
