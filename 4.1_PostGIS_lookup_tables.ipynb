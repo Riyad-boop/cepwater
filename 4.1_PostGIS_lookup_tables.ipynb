{
 "cells": [
  {
   "cell_type": "code",
   "execution_count": 88,
   "metadata": {},
   "outputs": [],
   "source": [
    "import pandas as pd\n",
    "import os\n",
    "import psycopg2 as pg\n",
    "from psycopg2 import sql\n",
    "import plotly.express as px\n",
    "from typing import Union\n",
    "from sqlalchemy import create_engine"
   ]
  },
  {
   "cell_type": "code",
   "execution_count": 78,
   "metadata": {},
   "outputs": [
    {
     "name": "stdout",
     "output_type": "stream",
     "text": [
      "Using local DB\n"
     ]
    }
   ],
   "source": [
    "valid_answer = True\n",
    "while (valid_answer):\n",
    "    answer = input('Use Cloud DB? (y/n):').lower()\n",
    "    if answer.lower() == 'n' or answer.lower() == 'no':\n",
    "        db_host = os.environ.get('DB_HOST')\n",
    "        db_port = os.environ.get('DB_PORT')\n",
    "        db_user = os.environ.get('DB_USER')\n",
    "        db_password = os.environ.get('DB_PASSWORD')\n",
    "        db_name = os.environ.get('DB_NAME')\n",
    "        valid_answer = False\n",
    "        print('Using local DB')\n",
    "    elif answer.lower() == 'y' or answer.lower() =='yes':\n",
    "        db_host = os.environ.get('DB_HOST')\n",
    "        db_port = os.environ.get('DB_PORT')\n",
    "        db_user = os.environ.get('DB_USER')\n",
    "        db_password = os.environ.get('DB_PASSWORD')\n",
    "        db_name = os.environ.get('DB_NAME')\n",
    "        valid_answer = False\n",
    "        print('Using Cloud DB')\n",
    "    else:\n",
    "        print('Invalid input. Please enter y or n.')\n",
    "\n",
    "db_url = f'postgresql://{db_user}:{db_password}@{db_host}:{db_port}/{db_name}'"
   ]
  },
  {
   "cell_type": "code",
   "execution_count": 12,
   "metadata": {},
   "outputs": [],
   "source": [
    "def connect_and_run_query(query: Union[str, sql.Composed], to_pandas: bool = False):\n",
    "    results = None\n",
    "    conn = pg.connect(\n",
    "        database=db_name,\n",
    "        user=db_user,\n",
    "        password=db_password,\n",
    "        host=db_host,\n",
    "        port=db_port\n",
    "    )\n",
    "    try:\n",
    "        cursor = conn.cursor()\n",
    "        cursor.execute(query)\n",
    "        if to_pandas:\n",
    "            results = pd.DataFrame(cursor.fetchall(), columns=[desc[0] for desc in cursor.description])\n",
    "        else:\n",
    "            results = cursor.fetchall()\n",
    "        cursor.close()\n",
    "    except Exception as e:\n",
    "        print(e)\n",
    "        conn.rollback()\n",
    "    finally:\n",
    "        conn.close()\n",
    "        return results "
   ]
  },
  {
   "cell_type": "code",
   "execution_count": 36,
   "metadata": {},
   "outputs": [],
   "source": [
    "conn = pg.connect(\n",
    "    database=db_name,\n",
    "    user=db_user,\n",
    "    password=db_password,\n",
    "    host=db_host,\n",
    "    port=5432\n",
    ")\n",
    "\n",
    "# IF EXISTS THEN REPLACE cep_grouped \"TABLE (extra\"ct cid, country, eco, pa)\n",
    "query = \"\"\"\n",
    "CREATE TABLE IF NOT EXISTS cep_water_grouped AS\n",
    "SELECT cep_id, country, eco, pa, is_protected, cep_grouped.\"transition_0\", cep_grouped.\"transition_1\", cep_grouped.\"transition_2\", cep_grouped.\"transition_3\", cep_grouped.\"transition_4\", cep_grouped.\"transition_5\", cep_grouped.\"transition_6\", cep_grouped.\"transition_7\", cep_grouped.\"transition_8\", cep_grouped.\"transition_9\", cep_grouped.\"transition_10\"\n",
    "FROM cep_grouped\n",
    "\"\"\"\n",
    "\n",
    "cursor = conn.cursor()\n",
    "cursor.execute(query)\n",
    "conn.commit()\n"
   ]
  },
  {
   "cell_type": "markdown",
   "metadata": {},
   "source": [
    "# Ecoregions lookup table"
   ]
  },
  {
   "cell_type": "code",
   "execution_count": 40,
   "metadata": {},
   "outputs": [],
   "source": [
    "# make a new ecoregions table and relate it to the cep_water_grouped table\n",
    "query = \"\"\"\n",
    "CREATE TABLE IF NOT EXISTS ecoregions AS (\n",
    "SELECT DISTINCT eco, eco_name, is_marine\n",
    "FROM cep_grouped\n",
    ")\n",
    "\"\"\"\n",
    "\n",
    "cursor = conn.cursor()\n",
    "cursor.execute(query)\n",
    "conn.commit()\n",
    "\n",
    "query = \"\"\"\n",
    "ALTER TABLE ecoregions\n",
    "ADD CONSTRAINT pk_eco PRIMARY KEY (eco);\n",
    "ALTER TABLE cep_water_grouped\n",
    "ADD CONSTRAINT fk_eco FOREIGN KEY (eco) REFERENCES ecoregions(eco);\n",
    "\"\"\"\n",
    "\n",
    "cursor = conn.cursor()\n",
    "cursor.execute(query)\n",
    "conn.commit()\n",
    "    "
   ]
  },
  {
   "cell_type": "markdown",
   "metadata": {},
   "source": [
    "# Country lookup table"
   ]
  },
  {
   "cell_type": "code",
   "execution_count": 41,
   "metadata": {},
   "outputs": [],
   "source": [
    "#make a new countries table and relate it to the cep_water_grouped table\n",
    "query = \"\"\"\n",
    "CREATE TABLE IF NOT EXISTS countries AS (\n",
    "SELECT \n",
    "    country,\n",
    "    country_name,\n",
    "    iso3,\n",
    "    SUM(\n",
    "    transition_0 + \n",
    "    + transition_1 \n",
    "    + transition_2 \n",
    "    + transition_3\n",
    "    + transition_4\n",
    "    + transition_5\n",
    "    + transition_6\n",
    "    + transition_7\n",
    "    + transition_8\n",
    "    + transition_9\n",
    "    + transition_10\n",
    "    ) / 1000000 \n",
    "    AS calculated_area_km2\n",
    "    FROM cep_grouped\n",
    "    GROUP BY country_name,country,iso3\n",
    "    ORDER BY country_name\n",
    ")\n",
    "\"\"\"\n",
    "\n",
    "cursor = conn.cursor()\n",
    "cursor.execute(query)\n",
    "conn.commit()\n",
    "\n",
    "# relate the countries table to the cep_water_grouped table\n",
    "query = \"\"\"\n",
    "ALTER TABLE countries\n",
    "ADD CONSTRAINT pk_country PRIMARY KEY (country);\n",
    "ALTER TABLE cep_water_grouped\n",
    "ADD CONSTRAINT fk_country FOREIGN KEY (country) REFERENCES countries(country);\n",
    "\"\"\"\n",
    "\n",
    "cursor = conn.cursor()\n",
    "cursor.execute(query)\n",
    "conn.commit()"
   ]
  },
  {
   "cell_type": "markdown",
   "metadata": {},
   "source": [
    "# Getting all PA in cep table"
   ]
  },
  {
   "cell_type": "code",
   "execution_count": null,
   "metadata": {},
   "outputs": [],
   "source": [
    "# get all PAs. explode the list into a set datatype then print the length of the set\n",
    "query = \"\"\"\n",
    "SELECT pa \n",
    "FROM cep_grouped\n",
    "\"\"\"\n",
    "all_pas = connect_and_run_query(query, to_pandas=False)\n",
    "# for each pa explode the list into individual elements and add to a set\n",
    "all_pas = [x[0].split(',') for x in all_pas]\n",
    "\n",
    "#flattens the list of lists all_pas into a single set of unique elements.\n",
    "all_pas = {int(x) for sublist in all_pas for x in sublist}\n",
    "print(\"length of set: \" + str(len(all_pas))) # len should be 275887\n",
    "# make into a dataframe \n",
    "all_pas = pd.DataFrame(all_pas, columns=['pa'])\n",
    "all_pas.set_index('pa', inplace=True)\n",
    "\n",
    "# check for any duplicate index values\n",
    "if len(all_pas[all_pas.index.duplicated()]) != 0:\n",
    "    print('Duplicates found in index')\n",
    "    all_pas = all_pas[~all_pas.index.duplicated(keep='first')]\n",
    "\n",
    "# save to csv\n",
    "all_pas.to_csv('../data/pa_list.csv')"
   ]
  },
  {
   "cell_type": "markdown",
   "metadata": {},
   "source": [
    "# PA database"
   ]
  },
  {
   "cell_type": "code",
   "execution_count": 42,
   "metadata": {},
   "outputs": [
    {
     "name": "stdout",
     "output_type": "stream",
     "text": [
      "275887\n"
     ]
    },
    {
     "data": {
      "text/html": [
       "<div>\n",
       "<style scoped>\n",
       "    .dataframe tbody tr th:only-of-type {\n",
       "        vertical-align: middle;\n",
       "    }\n",
       "\n",
       "    .dataframe tbody tr th {\n",
       "        vertical-align: top;\n",
       "    }\n",
       "\n",
       "    .dataframe thead th {\n",
       "        text-align: right;\n",
       "    }\n",
       "</style>\n",
       "<table border=\"1\" class=\"dataframe\">\n",
       "  <thead>\n",
       "    <tr style=\"text-align: right;\">\n",
       "      <th></th>\n",
       "      <th>pa</th>\n",
       "    </tr>\n",
       "  </thead>\n",
       "  <tbody>\n",
       "    <tr>\n",
       "      <th>0</th>\n",
       "      <td>555518370</td>\n",
       "    </tr>\n",
       "    <tr>\n",
       "      <th>1</th>\n",
       "      <td>103430</td>\n",
       "    </tr>\n",
       "    <tr>\n",
       "      <th>2</th>\n",
       "      <td>555517487</td>\n",
       "    </tr>\n",
       "    <tr>\n",
       "      <th>3</th>\n",
       "      <td>188243</td>\n",
       "    </tr>\n",
       "    <tr>\n",
       "      <th>4</th>\n",
       "      <td>555725436</td>\n",
       "    </tr>\n",
       "  </tbody>\n",
       "</table>\n",
       "</div>"
      ],
      "text/plain": [
       "          pa\n",
       "0  555518370\n",
       "1     103430\n",
       "2  555517487\n",
       "3     188243\n",
       "4  555725436"
      ]
     },
     "execution_count": 42,
     "metadata": {},
     "output_type": "execute_result"
    }
   ],
   "source": [
    "# read ./data/pa_list.csv into a pandas dataframe\n",
    "pa_list = pd.read_csv('./data/pa_list.csv')\n",
    "print(len(pa_list))\n",
    "pa_list.head()"
   ]
  },
  {
   "cell_type": "code",
   "execution_count": 43,
   "metadata": {},
   "outputs": [],
   "source": [
    "db_host = 'localhost'\n",
    "db_port = 5432\n",
    "db_name = 'db'\n",
    "db_user = 'admin'\n",
    "db_password = 'admin'\n",
    "db_url = f'postgresql://{db_user}:{db_password}@{db_host}:{db_port}/{db_name}'"
   ]
  },
  {
   "cell_type": "code",
   "execution_count": 44,
   "metadata": {},
   "outputs": [],
   "source": [
    "#insert pa_list as a temporary table in the database (to only be used for the next query)\n",
    "conn = pg.connect(\n",
    "    database=db_name,\n",
    "    user=db_user,\n",
    "    password=db_password,\n",
    "    host=db_host,\n",
    "    port=5432\n",
    ")\n",
    "\n",
    "query = \"\"\"\n",
    "CREATE TABLE temp_pa_list (\n",
    "    pa serial PRIMARY KEY\n",
    ");\n",
    "\"\"\"\n",
    "cursor = conn.cursor()\n",
    "cursor.execute(query)\n",
    "\n",
    "# insert data into the temp_pa_list table\n",
    "for index, row in pa_list.iterrows():\n",
    "    query = f\"\"\"\n",
    "    INSERT INTO temp_pa_list\n",
    "    VALUES ({row['pa']});\n",
    "    \"\"\"\n",
    "    cursor.execute(query)\n",
    "conn.commit()\n",
    "cursor.close()"
   ]
  },
  {
   "cell_type": "code",
   "execution_count": 70,
   "metadata": {},
   "outputs": [
    {
     "data": {
      "text/html": [
       "<div>\n",
       "<style scoped>\n",
       "    .dataframe tbody tr th:only-of-type {\n",
       "        vertical-align: middle;\n",
       "    }\n",
       "\n",
       "    .dataframe tbody tr th {\n",
       "        vertical-align: top;\n",
       "    }\n",
       "\n",
       "    .dataframe thead th {\n",
       "        text-align: right;\n",
       "    }\n",
       "</style>\n",
       "<table border=\"1\" class=\"dataframe\">\n",
       "  <thead>\n",
       "    <tr style=\"text-align: right;\">\n",
       "      <th></th>\n",
       "      <th>WDPAID</th>\n",
       "      <th>STATUS</th>\n",
       "      <th>STATUS_YR</th>\n",
       "      <th>REP_AREA</th>\n",
       "      <th>DESIG_ENG</th>\n",
       "      <th>DESIG_TYPE</th>\n",
       "      <th>METADATAID</th>\n",
       "    </tr>\n",
       "  </thead>\n",
       "  <tbody>\n",
       "    <tr>\n",
       "      <th>0</th>\n",
       "      <td>188243.0</td>\n",
       "      <td>Designated</td>\n",
       "      <td>2003</td>\n",
       "      <td>0.003200</td>\n",
       "      <td>Woodland key habitat</td>\n",
       "      <td>National</td>\n",
       "      <td>2013</td>\n",
       "    </tr>\n",
       "    <tr>\n",
       "      <th>1</th>\n",
       "      <td>309943.0</td>\n",
       "      <td>Designated</td>\n",
       "      <td>2019</td>\n",
       "      <td>799.351852</td>\n",
       "      <td>National Park</td>\n",
       "      <td>National</td>\n",
       "      <td>1804</td>\n",
       "    </tr>\n",
       "    <tr>\n",
       "      <th>2</th>\n",
       "      <td>555587942.0</td>\n",
       "      <td>Designated</td>\n",
       "      <td>2015</td>\n",
       "      <td>2.563000</td>\n",
       "      <td>Managed conservation zone of nature reserve</td>\n",
       "      <td>National</td>\n",
       "      <td>2013</td>\n",
       "    </tr>\n",
       "    <tr>\n",
       "      <th>3</th>\n",
       "      <td>148982.0</td>\n",
       "      <td>Designated</td>\n",
       "      <td>1991</td>\n",
       "      <td>0.046934</td>\n",
       "      <td>Federal Inventory of Raised and Transitional M...</td>\n",
       "      <td>National</td>\n",
       "      <td>2013</td>\n",
       "    </tr>\n",
       "    <tr>\n",
       "      <th>4</th>\n",
       "      <td>63661.0</td>\n",
       "      <td>Designated</td>\n",
       "      <td>1976</td>\n",
       "      <td>13.456533</td>\n",
       "      <td>Landscape Park</td>\n",
       "      <td>National</td>\n",
       "      <td>2013</td>\n",
       "    </tr>\n",
       "  </tbody>\n",
       "</table>\n",
       "</div>"
      ],
      "text/plain": [
       "        WDPAID      STATUS  STATUS_YR    REP_AREA  \\\n",
       "0     188243.0  Designated       2003    0.003200   \n",
       "1     309943.0  Designated       2019  799.351852   \n",
       "2  555587942.0  Designated       2015    2.563000   \n",
       "3     148982.0  Designated       1991    0.046934   \n",
       "4      63661.0  Designated       1976   13.456533   \n",
       "\n",
       "                                           DESIG_ENG DESIG_TYPE  METADATAID  \n",
       "0                               Woodland key habitat   National        2013  \n",
       "1                                      National Park   National        1804  \n",
       "2        Managed conservation zone of nature reserve   National        2013  \n",
       "3  Federal Inventory of Raised and Transitional M...   National        2013  \n",
       "4                                     Landscape Park   National        2013  "
      ]
     },
     "execution_count": 70,
     "metadata": {},
     "output_type": "execute_result"
    }
   ],
   "source": [
    "# inner join the temp_pa_list table with the wdpa_merged table to get all fields of the wdpa_merged table for the PAs in the pa_list\n",
    "query = \"\"\"\n",
    "SELECT \"WDPAID\", \"STATUS\", \"STATUS_YR\", \"REP_AREA\", \"DESIG_ENG\", \"DESIG_TYPE\", \"METADATAID\"\n",
    "FROM wdpa_distinct_wdpaid\n",
    "INNER JOIN temp_pa_list\n",
    "ON wdpa_distinct_wdpaid.\"WDPAID\" = temp_pa_list.pa\n",
    "\"\"\"\n",
    "pa_polygons = connect_and_run_query(query, to_pandas=True)\n",
    "\n",
    "# inner join the temp_pa_list table with the wdpa_merged table to get all fields of the wdpa_merged table for the PAs in the pa_list\n",
    "query = \"\"\"\n",
    "SELECT \"WDPAID\", \"STATUS\", \"STATUS_YR\", \"REP_AREA\", \"DESIG_ENG\", \"DESIG_TYPE\", \"METADATAID\"\n",
    "FROM wdpa_points\n",
    "INNER JOIN temp_pa_list\n",
    "ON wdpa_points.\"WDPAID\" = temp_pa_list.pa\n",
    "\"\"\"\n",
    "pa_points = connect_and_run_query(query, to_pandas=True)\n",
    "\n",
    "# delete the temp_pa_list table\n",
    "query = \"\"\"\n",
    "DROP TABLE temp_pa_list;\n",
    "\"\"\"\n",
    "cursor = conn.cursor()\n",
    "cursor.execute(query)\n",
    "conn.commit()\n",
    "cursor.close()\n",
    "conn.close()\n",
    "\n",
    "pa_data = pd.concat([pa_polygons, pa_points], axis=0)\n",
    "print(len(pa_polygons), len(pa_points), len(pa_data), len(pa_list))"
   ]
  },
  {
   "cell_type": "code",
   "execution_count": 77,
   "metadata": {},
   "outputs": [],
   "source": [
    "#export the pa_data to a csv file\n",
    "pa_data.to_csv('./data/cep_pa_metadata.csv')"
   ]
  },
  {
   "cell_type": "markdown",
   "metadata": {},
   "source": [
    "# PA lookup table"
   ]
  },
  {
   "cell_type": "code",
   "execution_count": 86,
   "metadata": {},
   "outputs": [],
   "source": [
    "# if pd_data does not exist then read it from the csv file\n",
    "if 'pa_data' not in locals():\n",
    "    print('Reading pa_data from csv file')\n",
    "\n",
    "pa_data.set_index('WDPAID', inplace=True)\n",
    "pa_data.index = pa_data.index.astype(int)\n",
    "pa_data.head()"
   ]
  },
  {
   "cell_type": "code",
   "execution_count": 89,
   "metadata": {},
   "outputs": [
    {
     "data": {
      "text/plain": [
       "810"
      ]
     },
     "execution_count": 89,
     "metadata": {},
     "output_type": "execute_result"
    }
   ],
   "source": [
    "# df to postgis\n",
    "engine = create_engine(db_url)\n",
    "pa_data.to_sql('pa', engine, if_exists='replace')"
   ]
  },
  {
   "cell_type": "code",
   "execution_count": null,
   "metadata": {},
   "outputs": [],
   "source": [
    "# create a view that inner joins the temp_pa_list with wdpa_merged table and get all the columns \n",
    "# then export the view to a csv file \n",
    "# then bring it back into the cep database as a new table\n",
    "# query status, rep_area designation type status_yr"
   ]
  }
 ],
 "metadata": {
  "kernelspec": {
   "display_name": "env",
   "language": "python",
   "name": "python3"
  },
  "language_info": {
   "codemirror_mode": {
    "name": "ipython",
    "version": 3
   },
   "file_extension": ".py",
   "mimetype": "text/x-python",
   "name": "python",
   "nbconvert_exporter": "python",
   "pygments_lexer": "ipython3",
   "version": "3.12.0"
  }
 },
 "nbformat": 4,
 "nbformat_minor": 2
}
